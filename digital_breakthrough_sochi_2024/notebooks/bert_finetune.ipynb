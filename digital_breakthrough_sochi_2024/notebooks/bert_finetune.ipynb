{
  "cells": [
    {
      "cell_type": "markdown",
      "metadata": {},
      "source": [
        "# Finetune Bert"
      ]
    },
    {
      "cell_type": "markdown",
      "metadata": {
        "id": "A76jCQ8stDRh"
      },
      "source": [
        "## Библиотеки и настройки"
      ]
    },
    {
      "cell_type": "code",
      "execution_count": 1,
      "metadata": {
        "colab": {
          "base_uri": "https://localhost:8080/"
        },
        "id": "bCI5HZuxLvtV",
        "outputId": "b44112b6-3b3b-4c66-8d0c-1dfaae738392"
      },
      "outputs": [],
      "source": [
        "# установить библиотеки в случае их отсутствия\n",
        "# pip install pandas\n",
        "# pip install numpy\n",
        "# pip install scikit-learn\n",
        "# pip install PyYAML\n",
        "# pip install torch\n",
        "# pip install transformers\n",
        "import re\n",
        "import random\n",
        "import numpy as np\n",
        "import pandas as pd\n",
        "import json\n",
        "import yaml\n",
        "import torch\n",
        "\n",
        "from sklearn.model_selection import StratifiedKFold\n",
        "from sklearn.model_selection import train_test_split\n",
        "from torch.utils.data import DataLoader, Dataset, RandomSampler, SequentialSampler\n",
        "from transformers import AutoTokenizer\n",
        "from typing import List, Mapping, Tuple\n",
        "from collections import Counter\n",
        "from tqdm import tqdm\n",
        "\n",
        "from train_nn import run\n",
        "from bert_model import BertForSequenceClassification\n"
      ]
    },
    {
      "cell_type": "code",
      "execution_count": 2,
      "metadata": {},
      "outputs": [
        {
          "name": "stdout",
          "output_type": "stream",
          "text": [
            "Версия CUDA: 12.1\n",
            "Используемое устройство: cuda\n"
          ]
        }
      ],
      "source": [
        "torch.manual_seed(13)\n",
        "\n",
        "# Выводим информацию о версии CUDA\n",
        "print(f\"Версия CUDA: {torch.version.cuda}\")\n",
        "device = torch.device(\"cuda\" if torch.cuda.is_available() else \"cpu\")\n",
        "print(f\"Используемое устройство: {device}\")\n"
      ]
    },
    {
      "cell_type": "code",
      "execution_count": 3,
      "metadata": {},
      "outputs": [],
      "source": [
        "WORDS_KEYS_SET = {\n",
        "    'доверенность',\n",
        "    'договор',\n",
        "    'акт',\n",
        "    'заявление',\n",
        "    'приказ',\n",
        "    'счет',\n",
        "    'приложение',\n",
        "    'соглашение',\n",
        "    'договор'\n",
        "    'оферты',\n",
        "    'устав',\n",
        "    'решение'\n",
        "}\n"
      ]
    },
    {
      "cell_type": "markdown",
      "metadata": {},
      "source": [
        "## Вспомогательные классы и функции"
      ]
    },
    {
      "cell_type": "code",
      "execution_count": 4,
      "metadata": {},
      "outputs": [],
      "source": [
        "# Класс для подготовки датасета\n",
        "class TextClassificationDataset(Dataset):\n",
        "\n",
        "    def __init__(\n",
        "        self,\n",
        "        texts: List[str],\n",
        "        labels: List[int] = None,\n",
        "        labels_dict: Mapping[str,str] = None,\n",
        "        max_seq_length: int = 128,\n",
        "        model_name: str = None,\n",
        "        add_spec_tokens: bool = False):\n",
        "\n",
        "        \"\"\"\n",
        "        Args:\n",
        "            texts: a list of text to classify\n",
        "            labels: a list with classification labels\n",
        "            labels_dict: a dictionary mapping class names to class ids\n",
        "            max_seq_length: maximum sequence length in tokens\n",
        "            model_name: transformer model name\n",
        "            add_spec_tokens: if we want to add special tokens to the tokenizer\n",
        "        \"\"\"\n",
        "\n",
        "        self.texts = texts\n",
        "        self.labels = labels\n",
        "        self.labels_dict = labels_dict\n",
        "        self.max_seq_length = max_seq_length\n",
        "\n",
        "        if (self.labels_dict is None and labels is not None):\n",
        "            self.labels_dict = dict(zip(sorted(set(labels)), range(len(set(labels)))))\n",
        "\n",
        "        self.tokenizer = AutoTokenizer.from_pretrained(model_name)\n",
        "\n",
        "    def __len__(self) -> int:\n",
        "        return len(self.texts)\n",
        "\n",
        "    def __getitem__(self, index : int) -> Mapping[str, torch.Tensor]:\n",
        "        \"\"\"\n",
        "        Gets encoded representation of a single element (text) in the dataset\n",
        "        Args:\n",
        "            index (int): index of the element in dataset\n",
        "        Returns:\n",
        "            Single element by index\n",
        "        \"\"\"\n",
        "        text = self.texts[index]\n",
        "\n",
        "        encoded_dict = self.tokenizer.encode_plus(\n",
        "            text,\n",
        "            add_special_tokens = True,\n",
        "            max_length = self.max_seq_length,\n",
        "            pad_to_max_length = True,\n",
        "            return_attention_mask = True,\n",
        "            return_tensors = 'pt',\n",
        "        )\n",
        "\n",
        "        encoded_dict[\"features\"] = encoded_dict[\"input_ids\"].squeeze(0)\n",
        "        del encoded_dict[\"input_ids\"]\n",
        "        del encoded_dict[\"token_type_ids\"]\n",
        "\n",
        "        if self.labels is not None:\n",
        "            y = self.labels[index]\n",
        "            y_encoded = torch.Tensor([self.labels_dict.get(y, -1)]).long().squeeze(0)\n",
        "            encoded_dict[\"targets\"] = y_encoded\n",
        "\n",
        "        return encoded_dict\n",
        "\n",
        "def read_data(cfg: dict) -> Tuple[dict, dict, dict]:\n",
        "    \"\"\"\n",
        "    Function that reads text data, creates TextClassificationDatasets and DataLoaders.\n",
        "    Args:\n",
        "        A config dictionary containing \"file_path\", \"max_seq_length\", etc...\n",
        "    Returns:\n",
        "        A tuple with (training & validation), testing, unlabeled_inference DataLoader dictionaries\n",
        "    \"\"\"\n",
        "    train_dataset = TextClassificationDataset(\n",
        "        texts=train_sentences['text'].values.tolist(),\n",
        "        labels=train_sentences['label'].values,\n",
        "        max_seq_length=cfg['model']['max_seq_length'],\n",
        "        model_name=cfg['model']['model_name'],\n",
        "    )\n",
        "\n",
        "    val_dataset = TextClassificationDataset(\n",
        "        texts=test_sentences['text'].values.tolist(),\n",
        "        labels=test_sentences['label'].values,\n",
        "        max_seq_length=cfg['model']['max_seq_length'],\n",
        "        model_name=cfg['model']['model_name'],\n",
        "    )\n",
        "\n",
        "    train_loader = DataLoader(\n",
        "        dataset=train_dataset,\n",
        "        sampler=RandomSampler(train_dataset),\n",
        "        batch_size=cfg['training']['batch_size'],\n",
        "    )\n",
        "\n",
        "    val_loader = DataLoader(\n",
        "        dataset=val_dataset,\n",
        "        sampler=SequentialSampler(val_dataset),\n",
        "        batch_size=cfg['training']['batch_size'],\n",
        "    )\n",
        "\n",
        "    return train_loader, val_loader\n"
      ]
    },
    {
      "cell_type": "code",
      "execution_count": 5,
      "metadata": {
        "id": "Jk262nKsEorM"
      },
      "outputs": [],
      "source": [
        "\n",
        "def del_process_text(text):\n",
        "    \"\"\"\n",
        "    удаляем в тексте ненужные подчеркивания и данные в скобках\n",
        "    \"\"\"\n",
        "    text = re.sub(\"_+\", \"\", text)\n",
        "    text = re.sub(\"\\([^)]*\\)\", \"\", text)\n",
        "    text = text.lower()\n",
        "\n",
        "    return text\n",
        "\n",
        "\n",
        "def del_clauses_process_text(sequences):\n",
        "    \"\"\"\n",
        "    удаляем пункты договора\n",
        "    \"\"\"\n",
        "    res = [re.sub(\"\\n\", \"\", x) for x in sequences]\n",
        "    res = [re.sub(r'\\s+', ' ', x).strip() for x in sequences]\n",
        "\n",
        "    return res\n",
        "\n",
        "\n",
        "def splitting_text_regex(text, splitter='[\\t\\n]\\s*\\d+[0-9\\.]*\\.\\s'):\n",
        "    \"\"\"\n",
        "    Сплитим regex по пунктам договора\n",
        "    \"\"\"\n",
        "    # Если не находит пункты, то пусть делит по абзацам\n",
        "    points = re.findall(splitter, text)\n",
        "    res = re.split(splitter, text)\n",
        "\n",
        "    return res, points\n",
        "\n",
        "def generate_random_10_digit_number():\n",
        "    \"\"\"\n",
        "    Генератор случайных 10 цифр\n",
        "    \"\"\"\n",
        "    return random.randint(10**9, 10**10 - 1)\n"
      ]
    },
    {
      "cell_type": "code",
      "execution_count": 6,
      "metadata": {},
      "outputs": [],
      "source": [
        "def sentences_create(data, content_col=\"text\", label_col=\"label\", id_col=\"doc_id\"):\n",
        "    \"\"\"\n",
        "    Из df с договорами создает большой df пунктов и лейблов к ним\n",
        "    \"\"\"\n",
        "    text_data = []\n",
        "    labels_data = []\n",
        "    id_data = []\n",
        "\n",
        "    for index in range(data.shape[0]):\n",
        "        row = data.iloc[index]\n",
        "        splitted_text, splitting_points = splitting_text_regex(del_process_text(row[content_col]))\n",
        "        if len(splitted_text) < 5:\n",
        "            splitted_text_by_enter = []\n",
        "            for text in splitted_text:\n",
        "                splitted_text_by_enter.extend(text.split('\\n'))\n",
        "            splitted_text = splitted_text_by_enter\n",
        "\n",
        "        splitted_text_by_enter = []\n",
        "        for text in splitted_text:\n",
        "            if len(text.split(' ')) > 600: # > 600 слов => разбиение по \\n\n",
        "                splitted_text_by_enter.extend(text.split('\\n'))\n",
        "            else:\n",
        "                splitted_text_by_enter.append(text)\n",
        "\n",
        "        splitted_text = splitted_text_by_enter\n",
        "\n",
        "        processed_splitted_text = del_clauses_process_text(splitted_text)\n",
        "\n",
        "        text_data += processed_splitted_text\n",
        "\n",
        "        labels_data.extend(row[label_col] for x in range(len(processed_splitted_text)))\n",
        "        id_data.extend(re.sub(r\"\\.+[^\\n]+\", \"\", row[id_col]) for x in range(len(processed_splitted_text)))\n",
        "\n",
        "    sentences = pd.DataFrame({\"text\": text_data, \"label\": labels_data, \"id\": id_data})\n",
        "\n",
        "    filtered = sentences[\n",
        "        sentences[\"text\"].apply(lambda x: (len(x.split(\" \")) > 5) | (len(set(x.split(\" \")).intersection(set(WORDS_KEYS_SET))) > 0))\n",
        "        ].reset_index(drop=True)\n",
        "\n",
        "    return filtered\n"
      ]
    },
    {
      "cell_type": "code",
      "execution_count": null,
      "metadata": {},
      "outputs": [],
      "source": []
    },
    {
      "cell_type": "markdown",
      "metadata": {
        "id": "_Y6yK422f-vx"
      },
      "source": [
        "## Получение данных по документам"
      ]
    },
    {
      "cell_type": "markdown",
      "metadata": {
        "colab": {
          "base_uri": "https://localhost:8080/"
        },
        "id": "EbfbbguIoKRt",
        "outputId": "fc64a5bf-d45d-4d35-d43f-1ccce1c44ad6"
      },
      "source": [
        "### НАДО ЗАМЕНИТЬ ИЛИ УДАЛИТЬ\n",
        "import gdown\n",
        "\n",
        "url = 'https://drive.google.com/file/d/1zfdnovlwsAyuv6NaWrNUBfgZxD-Fq3kG/view?usp=share_link'\n",
        "gdown.download(url, \"to_gdrive1.zip\", fuzzy=True)\n",
        "#unzip '/content/to_gdrive1.zip'\n"
      ]
    },
    {
      "cell_type": "code",
      "execution_count": 7,
      "metadata": {},
      "outputs": [
        {
          "data": {
            "text/plain": [
              "{'arrangement': 0,\n",
              " 'application': 1,\n",
              " 'proxy': 2,\n",
              " 'contract': 3,\n",
              " 'act': 4,\n",
              " 'order': 5,\n",
              " 'determination': 6,\n",
              " 'statute': 7,\n",
              " 'contract offer': 8,\n",
              " 'invoice': 9,\n",
              " 'bill': 10}"
            ]
          },
          "execution_count": 7,
          "metadata": {},
          "output_type": "execute_result"
        }
      ],
      "source": [
        "#словарь лейблов\n",
        "with open('labels.json', 'r', encoding='utf8') as f:\n",
        "    kind_names = json.load(f)\n",
        "kind_names\n",
        "kind_names = {v : int(i) for i, v in kind_names.items()}\n",
        "kind_names\n"
      ]
    },
    {
      "cell_type": "code",
      "execution_count": 8,
      "metadata": {
        "colab": {
          "base_uri": "https://localhost:8080/",
          "height": 424
        },
        "id": "FnvwwS7ivGax",
        "outputId": "f62a001d-1438-439c-ecb4-eb63c4a189d1"
      },
      "outputs": [
        {
          "data": {
            "text/html": [
              "<div>\n",
              "<style scoped>\n",
              "    .dataframe tbody tr th:only-of-type {\n",
              "        vertical-align: middle;\n",
              "    }\n",
              "\n",
              "    .dataframe tbody tr th {\n",
              "        vertical-align: top;\n",
              "    }\n",
              "\n",
              "    .dataframe thead th {\n",
              "        text-align: right;\n",
              "    }\n",
              "</style>\n",
              "<table border=\"1\" class=\"dataframe\">\n",
              "  <thead>\n",
              "    <tr style=\"text-align: right;\">\n",
              "      <th></th>\n",
              "      <th>class</th>\n",
              "      <th>text</th>\n",
              "    </tr>\n",
              "  </thead>\n",
              "  <tbody>\n",
              "    <tr>\n",
              "      <th>0</th>\n",
              "      <td>arrangement</td>\n",
              "      <td>СОГЛАШЕНИЕ N 8\\nо расторжении трудового догово...</td>\n",
              "    </tr>\n",
              "    <tr>\n",
              "      <th>33</th>\n",
              "      <td>arrangement</td>\n",
              "      <td>Соглашение\\n\\nо добровольном возмещении ущерба...</td>\n",
              "    </tr>\n",
              "    <tr>\n",
              "      <th>154</th>\n",
              "      <td>proxy</td>\n",
              "      <td>Д О В Е Р Е Н Н О С Т Ь\\nг. Марс\\nПервого янва...</td>\n",
              "    </tr>\n",
              "    <tr>\n",
              "      <th>321</th>\n",
              "      <td>order</td>\n",
              "      <td>ООО «Зеленая планета»\\r\\nПриказ №44\\r\\nг. Моск...</td>\n",
              "    </tr>\n",
              "    <tr>\n",
              "      <th>440</th>\n",
              "      <td>invoice</td>\n",
              "      <td>\\t\\t\\t\\t\\t\\t\\t\\t\\t\\t\\t\\t\\t\\t\\t\\t\\t\\t\\t\\t\\t\\t\\t...</td>\n",
              "    </tr>\n",
              "    <tr>\n",
              "      <th>7</th>\n",
              "      <td>arrangement</td>\n",
              "      <td>Соглашение № 23\\n\\nО расторжении договора арен...</td>\n",
              "    </tr>\n",
              "    <tr>\n",
              "      <th>422</th>\n",
              "      <td>invoice</td>\n",
              "      <td>Дорожная ведомость (для перевозчика, выдающег...</td>\n",
              "    </tr>\n",
              "  </tbody>\n",
              "</table>\n",
              "</div>"
            ],
            "text/plain": [
              "           class                                               text\n",
              "0    arrangement  СОГЛАШЕНИЕ N 8\\nо расторжении трудового догово...\n",
              "33   arrangement  Соглашение\\n\\nо добровольном возмещении ущерба...\n",
              "154        proxy  Д О В Е Р Е Н Н О С Т Ь\\nг. Марс\\nПервого янва...\n",
              "321        order  ООО «Зеленая планета»\\r\\nПриказ №44\\r\\nг. Моск...\n",
              "440      invoice  \\t\\t\\t\\t\\t\\t\\t\\t\\t\\t\\t\\t\\t\\t\\t\\t\\t\\t\\t\\t\\t\\t\\t...\n",
              "7    arrangement  Соглашение № 23\\n\\nО расторжении договора арен...\n",
              "422      invoice   Дорожная ведомость (для перевозчика, выдающег..."
            ]
          },
          "execution_count": 8,
          "metadata": {},
          "output_type": "execute_result"
        }
      ],
      "source": [
        "df = pd.read_csv(\"sample.csv\")\n",
        "df.sample(7)\n"
      ]
    },
    {
      "cell_type": "code",
      "execution_count": 9,
      "metadata": {},
      "outputs": [
        {
          "name": "stdout",
          "output_type": "stream",
          "text": [
            "Кол-во уникальных значений в doc_id 501\n"
          ]
        },
        {
          "data": {
            "text/html": [
              "<div>\n",
              "<style scoped>\n",
              "    .dataframe tbody tr th:only-of-type {\n",
              "        vertical-align: middle;\n",
              "    }\n",
              "\n",
              "    .dataframe tbody tr th {\n",
              "        vertical-align: top;\n",
              "    }\n",
              "\n",
              "    .dataframe thead th {\n",
              "        text-align: right;\n",
              "    }\n",
              "</style>\n",
              "<table border=\"1\" class=\"dataframe\">\n",
              "  <thead>\n",
              "    <tr style=\"text-align: right;\">\n",
              "      <th></th>\n",
              "      <th>class</th>\n",
              "      <th>text</th>\n",
              "      <th>doc_id</th>\n",
              "      <th>label</th>\n",
              "    </tr>\n",
              "  </thead>\n",
              "  <tbody>\n",
              "    <tr>\n",
              "      <th>153</th>\n",
              "      <td>proxy</td>\n",
              "      <td>Д О В Е Р Е Н Н О С Т Ь\\nг. Марс\\nПервого янва...</td>\n",
              "      <td>3197116015</td>\n",
              "      <td>2</td>\n",
              "    </tr>\n",
              "    <tr>\n",
              "      <th>170</th>\n",
              "      <td>proxy</td>\n",
              "      <td>Д О В Е Р Е Н Н О С Т Ь\\nг. Марс\\nПервого янва...</td>\n",
              "      <td>2265295531</td>\n",
              "      <td>2</td>\n",
              "    </tr>\n",
              "    <tr>\n",
              "      <th>54</th>\n",
              "      <td>application</td>\n",
              "      <td>Начальнику управления соцзащиты по Курганской ...</td>\n",
              "      <td>4646937194</td>\n",
              "      <td>1</td>\n",
              "    </tr>\n",
              "    <tr>\n",
              "      <th>253</th>\n",
              "      <td>act</td>\n",
              "      <td>АКТ-ДОПУСК\\nдля производства строительно-монта...</td>\n",
              "      <td>4003011010</td>\n",
              "      <td>4</td>\n",
              "    </tr>\n",
              "    <tr>\n",
              "      <th>187</th>\n",
              "      <td>contract</td>\n",
              "      <td>Договор аренды компрессора\\nг. Владивосток 21 ...</td>\n",
              "      <td>7105833795</td>\n",
              "      <td>3</td>\n",
              "    </tr>\n",
              "    <tr>\n",
              "      <th>0</th>\n",
              "      <td>arrangement</td>\n",
              "      <td>СОГЛАШЕНИЕ N 8\\nо расторжении трудового догово...</td>\n",
              "      <td>6407400315</td>\n",
              "      <td>0</td>\n",
              "    </tr>\n",
              "    <tr>\n",
              "      <th>385</th>\n",
              "      <td>statute</td>\n",
              "      <td>УТВЕРЖДЕН\\r\\nрешением Общего собрания участник...</td>\n",
              "      <td>7513515473</td>\n",
              "      <td>7</td>\n",
              "    </tr>\n",
              "  </tbody>\n",
              "</table>\n",
              "</div>"
            ],
            "text/plain": [
              "           class                                               text  \\\n",
              "153        proxy  Д О В Е Р Е Н Н О С Т Ь\\nг. Марс\\nПервого янва...   \n",
              "170        proxy  Д О В Е Р Е Н Н О С Т Ь\\nг. Марс\\nПервого янва...   \n",
              "54   application  Начальнику управления соцзащиты по Курганской ...   \n",
              "253          act  АКТ-ДОПУСК\\nдля производства строительно-монта...   \n",
              "187     contract  Договор аренды компрессора\\nг. Владивосток 21 ...   \n",
              "0    arrangement  СОГЛАШЕНИЕ N 8\\nо расторжении трудового догово...   \n",
              "385      statute  УТВЕРЖДЕН\\r\\nрешением Общего собрания участник...   \n",
              "\n",
              "         doc_id  label  \n",
              "153  3197116015      2  \n",
              "170  2265295531      2  \n",
              "54   4646937194      1  \n",
              "253  4003011010      4  \n",
              "187  7105833795      3  \n",
              "0    6407400315      0  \n",
              "385  7513515473      7  "
            ]
          },
          "execution_count": 9,
          "metadata": {},
          "output_type": "execute_result"
        }
      ],
      "source": [
        "df['doc_id'] = df['text'].map(lambda x : str(generate_random_10_digit_number()))\n",
        "df[\"label\"] = df[\"class\"].map(kind_names)\n",
        "print('Кол-во уникальных значений в doc_id', len(df.doc_id.unique()))\n",
        "df.sample(7)\n"
      ]
    },
    {
      "cell_type": "markdown",
      "metadata": {
        "id": "uYiHmhQECCMH"
      },
      "source": [
        "## Finetune ```Bert```, с cross validation (на 5-Fold с стратифицикацией)"
      ]
    },
    {
      "cell_type": "code",
      "execution_count": 10,
      "metadata": {
        "colab": {
          "base_uri": "https://localhost:8080/"
        },
        "id": "Jv2NDTE-x8RW",
        "outputId": "ca0707ab-4d06-427c-f748-d657d3ee4909"
      },
      "outputs": [
        {
          "name": "stdout",
          "output_type": "stream",
          "text": [
            "Read successful\n",
            "{'data': {'train_size': 0.8, 'val_size': 0.2}, 'model': {'model_name': 'IlyaGusev/rubert_telegram_headlines', 'max_seq_length': 128, 'num_classes': 11, 'dropout': 0.2}, 'training': {'learning_rate': '1e-5', 'adam_epsilon': '1e-8', 'num_epochs': 5, 'batch_size': 24}, 'general': {'seed': 13}}\n"
          ]
        }
      ],
      "source": [
        "#загружаем конфиг\n",
        "with open(\"config.yml\", \"r\") as yamlfile:\n",
        "    cfg = yaml.safe_load(yamlfile)\n",
        "    print(\"Read successful\")\n",
        "print(cfg)\n"
      ]
    },
    {
      "cell_type": "code",
      "execution_count": 11,
      "metadata": {
        "colab": {
          "base_uri": "https://localhost:8080/",
          "height": 1000,
          "referenced_widgets": [
            "e9a9e5f67bd44836b17d40279c28e727",
            "b843c8264bc44711a6b9f0d7ed28f7c0",
            "200c81409066402c9de005f05c83867e",
            "07e5668493d74fdb8838a9e3791d99cf",
            "5284fd23297f432cb318c792806af1f2",
            "47a6341722424ac2be34dc36344ae79e",
            "286c77deb86e4ed3a8ad0a1a08ed7b1e",
            "60530aa59c094968923e6156d156467a",
            "711ee4f95fd241929207bd54e13dd2bc",
            "b728618195104933964858964439c93b",
            "3468b49823f94b5b97b1ecd58add2a9b",
            "e0fed0d8233c4463a77d053a28f5c422",
            "9b8e5bc5305b428ca6cc6a07dbef02c3",
            "e1e18f431ae34e3989fdaff1eaa347e6",
            "0a827e1dd39f4d72907adb334c261676",
            "0cdad02ab87e49cc99c3bd28f38d4591",
            "3de5ea21caf44807a635087eecc241ea",
            "05ee6b2dba994c4293f70a6f88ee4f70",
            "5f2816b2ffbb45c08f0abeeca55fb6e7",
            "9200af485a0f44f8b1cfc404b4123294",
            "0cf19b5f8425469ab3af1afd7c4105bd",
            "a923486d9bb84906b8600ab47db9026b",
            "dd128b7650274588ad5b66acd25743d5",
            "fe3f293c17e34fcca4034e24e9a36686",
            "4ca7fdf5ca51477480a2fe2770256722",
            "8b23a14d44004992980e26b1e75784c0",
            "821a782922884bdc932e5f0a3c9c4eba",
            "1001e4840581460ba940290d9afa8857",
            "26e02ade71a64a02be78f26f6bf957f9",
            "8217c97bf21b4e7d9469a07f40e58d09",
            "8081a77daed44be9955bdf46bac3da8f",
            "f369b271bce94d33805a400b47217b73",
            "f1dea0b13dbc451185d89520ee57c1bf",
            "4fdbf2094fce4bf6a9a5c8fd8c750739",
            "f1442becb1c14b328513c79800039767",
            "05bea6329b734b6cb9dcd13230828075",
            "2b907f9dc47a4466a4f7581e61ede6fc",
            "f118ab0e0eea4cab90a36e74674d0a3a",
            "3d1c97a0bbad40c387d4273642a48147",
            "56deb171510b4326bc1e062dce34317f",
            "5409c8328ccd4224b6a79b5476ee102b",
            "42b686d4010d4f22a2b453e80706ebe1",
            "24c3ad20b78146b39990fb127fa8333e",
            "a96b4483e49742bbb53eef75ee18342f",
            "c73acf1b03794162b8874fbecc781ce5",
            "65c8380e2b7047aeb8e2f626382e4ac4",
            "7461cd6ffb424fab869faf5c49b609e9",
            "272e1704b5ad4a9a996d46bcbb73023f",
            "d23b252864404b4cac63fc327c312555",
            "e0e9129c126d4c87bb6cb063f9867792",
            "fdb93666a60f480eac2318e5dbe03314",
            "89b0dc1d9ff644b79e73301f53e3ccfa",
            "5339b2a3f6974721ab34b0bf467f4fbf",
            "370cfb17823d4540a258c0da11c6c44e",
            "7a6b892f16d04e699bcc162fab19f44c"
          ]
        },
        "id": "SGTNuvWxq8VY",
        "outputId": "f228b31b-05eb-4296-f359-061e781218b1"
      },
      "outputs": [
        {
          "name": "stderr",
          "output_type": "stream",
          "text": [
            "0it [00:00, ?it/s]"
          ]
        },
        {
          "name": "stdout",
          "output_type": "stream",
          "text": [
            "\n",
            "====================================\n",
            "Fold 0:\n",
            "====================================\n",
            "\n",
            "  Train: сэмплов - 400\n",
            "\n",
            "  Test:  сэмплов - 101\n",
            "\n"
          ]
        },
        {
          "name": "stderr",
          "output_type": "stream",
          "text": [
            "Some weights of the model checkpoint at DeepPavlov/rubert-base-cased were not used when initializing BertModel: ['cls.predictions.bias', 'cls.predictions.decoder.bias', 'cls.predictions.decoder.weight', 'cls.predictions.transform.LayerNorm.bias', 'cls.predictions.transform.LayerNorm.weight', 'cls.predictions.transform.dense.bias', 'cls.predictions.transform.dense.weight', 'cls.seq_relationship.bias', 'cls.seq_relationship.weight']\n",
            "- This IS expected if you are initializing BertModel from the checkpoint of a model trained on another task or with another architecture (e.g. initializing a BertForSequenceClassification model from a BertForPreTraining model).\n",
            "- This IS NOT expected if you are initializing BertModel from the checkpoint of a model that you expect to be exactly identical (initializing a BertForSequenceClassification model from a BertForSequenceClassification model).\n"
          ]
        },
        {
          "name": "stdout",
          "output_type": "stream",
          "text": [
            "\n",
            "====================================\n",
            "Epoch = 0\n",
            "====================================\n",
            "\n"
          ]
        },
        {
          "name": "stderr",
          "output_type": "stream",
          "text": [
            "Training:   0%|          | 0/235 [00:00<?, ?it/s]Truncation was not explicitly activated but `max_length` is provided a specific value, please use `truncation=True` to explicitly truncate examples to max length. Defaulting to 'longest_first' truncation strategy. If you encode pairs of sequences (GLUE-style) with the tokenizer you can select this strategy more precisely by providing a specific strategy to `truncation`.\n",
            "Training loss: 8.99e-01; lr: 8.00e-06: 100%|██████████| 235/235 [01:23<00:00,  2.81it/s]\n",
            "Validating:   0%|          | 0/58 [00:00<?, ?it/s]Truncation was not explicitly activated but `max_length` is provided a specific value, please use `truncation=True` to explicitly truncate examples to max length. Defaulting to 'longest_first' truncation strategy. If you encode pairs of sequences (GLUE-style) with the tokenizer you can select this strategy more precisely by providing a specific strategy to `truncation`.\n",
            "Validating: 100%|██████████| 58/58 [00:06<00:00,  9.44it/s]\n"
          ]
        },
        {
          "name": "stdout",
          "output_type": "stream",
          "text": [
            "y_test - [0, 0, 0, 0, 0, 0, 0, 0, 1, 1, 1, 1, 1, 1, 1, 1, 1, 1, 1, 1, 1, 2, 2, 2, 2, 2, 2, 2, 2, 2, 2, 2, 2, 2, 2, 3, 3, 3, 3, 3, 3, 3, 3, 3, 3, 3, 3, 3, 3, 4, 4, 4, 4, 4, 4, 4, 4, 4, 4, 4, 4, 4, 4, 5, 5, 5, 5, 5, 5, 5, 5, 5, 5, 6, 6, 7, 7, 7, 7, 8, 8, 8, 8, 8, 9, 9, 9, 9, 9, 9, 9, 9, 10, 10, 10, 10, 10, 10, 10, 10, 10]\n",
            "choice_data - [0, 0, 0, 8, 0, 0, 8, 4, 1, 4, 1, 1, 1, 1, 2, 5, 4, 1, 4, 2, 2, 2, 2, 2, 2, 2, 2, 2, 2, 2, 2, 2, 2, 2, 2, 3, 3, 3, 3, 3, 3, 3, 3, 3, 3, 3, 3, 3, 3, 4, 4, 4, 4, 4, 4, 4, 4, 4, 4, 4, 4, 4, 4, 5, 5, 5, 5, 5, 5, 3, 5, 5, 5, 4, 7, 7, 7, 7, 7, 8, 8, 8, 8, 8, 9, 9, 9, 9, 9, 9, 9, 9, 10, 10, 10, 10, 10, 10, 10, 10, 8]\n",
            "Validation acc = 0.8613861386138614; F1 = 0.8443352540104945\n",
            "              precision    recall  f1-score   support\n",
            "\n",
            "           0       1.00      0.62      0.77         8\n",
            "           1       1.00      0.46      0.63        13\n",
            "           2       0.82      1.00      0.90        14\n",
            "           3       0.93      1.00      0.97        14\n",
            "           4       0.74      1.00      0.85        14\n",
            "           5       0.90      0.90      0.90        10\n",
            "           6       0.00      0.00      0.00         2\n",
            "           7       0.80      1.00      0.89         4\n",
            "           8       0.62      1.00      0.77         5\n",
            "           9       1.00      1.00      1.00         8\n",
            "          10       1.00      0.89      0.94         9\n",
            "\n",
            "    accuracy                           0.86       101\n",
            "   macro avg       0.80      0.81      0.78       101\n",
            "weighted avg       0.87      0.86      0.84       101\n",
            "\n",
            "[[ 5  0  0  0  1  0  0  0  2  0  0]\n",
            " [ 0  6  3  0  3  1  0  0  0  0  0]\n",
            " [ 0  0 14  0  0  0  0  0  0  0  0]\n",
            " [ 0  0  0 14  0  0  0  0  0  0  0]\n",
            " [ 0  0  0  0 14  0  0  0  0  0  0]\n",
            " [ 0  0  0  1  0  9  0  0  0  0  0]\n",
            " [ 0  0  0  0  1  0  0  1  0  0  0]\n",
            " [ 0  0  0  0  0  0  0  4  0  0  0]\n",
            " [ 0  0  0  0  0  0  0  0  5  0  0]\n",
            " [ 0  0  0  0  0  0  0  0  0  8  0]\n",
            " [ 0  0  0  0  0  0  0  0  1  0  8]]\n",
            "Axes(0.125,0.11;0.62x0.77)\n"
          ]
        },
        {
          "data": {
            "image/png": "[encoded data removed]",
            "text/plain": [
              "<Figure size 640x480 with 2 Axes>"
            ]
          },
          "metadata": {},
          "output_type": "display_data"
        },
        {
          "name": "stdout",
          "output_type": "stream",
          "text": [
            "=> Saving checkpoint at epoch 0\n"
          ]
        },
        {
          "name": "stderr",
          "output_type": "stream",
          "text": []
        },
        {
          "name": "stdout",
          "output_type": "stream",
          "text": [
            "\n",
            "====================================\n",
            "Epoch = 1\n",
            "====================================\n",
            "\n"
          ]
        },
        {
          "name": "stderr",
          "output_type": "stream",
          "text": [
            "Training loss: 2.12e-01; lr: 6.00e-06: 100%|██████████| 235/235 [01:23<00:00,  2.82it/s]\n",
            "Validating: 100%|██████████| 58/58 [00:05<00:00,  9.67it/s]"
          ]
        },
        {
          "name": "stdout",
          "output_type": "stream",
          "text": [
            "y_test - [0, 0, 0, 0, 0, 0, 0, 0, 1, 1, 1, 1, 1, 1, 1, 1, 1, 1, 1, 1, 1, 2, 2, 2, 2, 2, 2, 2, 2, 2, 2, 2, 2, 2, 2, 3, 3, 3, 3, 3, 3, 3, 3, 3, 3, 3, 3, 3, 3, 4, 4, 4, 4, 4, 4, 4, 4, 4, 4, 4, 4, 4, 4, 5, 5, 5, 5, 5, 5, 5, 5, 5, 5, 6, 6, 7, 7, 7, 7, 8, 8, 8, 8, 8, 9, 9, 9, 9, 9, 9, 9, 9, 10, 10, 10, 10, 10, 10, 10, 10, 10]\n",
            "choice_data - [0, 0, 0, 8, 0, 0, 0, 4, 1, 1, 1, 1, 1, 1, 1, 1, 1, 1, 1, 1, 1, 2, 2, 2, 2, 2, 2, 2, 2, 2, 2, 2, 2, 2, 2, 3, 3, 3, 3, 3, 3, 3, 3, 3, 3, 3, 3, 3, 3, 4, 4, 4, 4, 4, 4, 4, 4, 4, 4, 4, 4, 4, 4, 5, 5, 5, 5, 5, 5, 5, 5, 5, 5, 4, 7, 7, 7, 7, 7, 8, 8, 8, 8, 8, 9, 9, 9, 9, 9, 9, 9, 9, 10, 10, 10, 10, 10, 10, 10, 10, 8]\n",
            "Validation acc = 0.9504950495049505; F1 = 0.9417487126863947\n",
            "              precision    recall  f1-score   support\n",
            "\n",
            "           0       1.00      0.75      0.86         8\n",
            "           1       1.00      1.00      1.00        13\n",
            "           2       1.00      1.00      1.00        14\n",
            "           3       1.00      1.00      1.00        14\n",
            "           4       0.88      1.00      0.93        14\n",
            "           5       1.00      1.00      1.00        10\n",
            "           6       0.00      0.00      0.00         2\n",
            "           7       0.80      1.00      0.89         4\n",
            "           8       0.71      1.00      0.83         5\n",
            "           9       1.00      1.00      1.00         8\n",
            "          10       1.00      0.89      0.94         9\n",
            "\n",
            "    accuracy                           0.95       101\n",
            "   macro avg       0.85      0.88      0.86       101\n",
            "weighted avg       0.94      0.95      0.94       101\n",
            "\n",
            "[[ 6  0  0  0  1  0  0  0  1  0  0]\n",
            " [ 0 13  0  0  0  0  0  0  0  0  0]\n",
            " [ 0  0 14  0  0  0  0  0  0  0  0]\n",
            " [ 0  0  0 14  0  0  0  0  0  0  0]\n",
            " [ 0  0  0  0 14  0  0  0  0  0  0]\n",
            " [ 0  0  0  0  0 10  0  0  0  0  0]\n",
            " [ 0  0  0  0  1  0  0  1  0  0  0]\n",
            " [ 0  0  0  0  0  0  0  4  0  0  0]\n",
            " [ 0  0  0  0  0  0  0  0  5  0  0]\n",
            " [ 0  0  0  0  0  0  0  0  0  8  0]\n",
            " [ 0  0  0  0  0  0  0  0  1  0  8]]\n",
            "Axes(0.125,0.11;0.62x0.77)\n"
          ]
        },
        {
          "name": "stderr",
          "output_type": "stream",
          "text": [
            "\n"
          ]
        },
        {
          "data": {
            "image/png": "[encoded data removed]",
            "text/plain": [
              "<Figure size 640x480 with 2 Axes>"
            ]
          },
          "metadata": {},
          "output_type": "display_data"
        },
        {
          "name": "stdout",
          "output_type": "stream",
          "text": [
            "=> Saving checkpoint at epoch 1\n"
          ]
        },
        {
          "name": "stderr",
          "output_type": "stream",
          "text": []
        },
        {
          "name": "stdout",
          "output_type": "stream",
          "text": [
            "\n",
            "====================================\n",
            "Epoch = 2\n",
            "====================================\n",
            "\n"
          ]
        },
        {
          "name": "stderr",
          "output_type": "stream",
          "text": [
            "Training loss: 2.27e-01; lr: 4.00e-06: 100%|██████████| 235/235 [01:24<00:00,  2.79it/s]\n",
            "Validating: 100%|██████████| 58/58 [00:06<00:00,  9.59it/s]\n"
          ]
        },
        {
          "name": "stdout",
          "output_type": "stream",
          "text": [
            "y_test - [0, 0, 0, 0, 0, 0, 0, 0, 1, 1, 1, 1, 1, 1, 1, 1, 1, 1, 1, 1, 1, 2, 2, 2, 2, 2, 2, 2, 2, 2, 2, 2, 2, 2, 2, 3, 3, 3, 3, 3, 3, 3, 3, 3, 3, 3, 3, 3, 3, 4, 4, 4, 4, 4, 4, 4, 4, 4, 4, 4, 4, 4, 4, 5, 5, 5, 5, 5, 5, 5, 5, 5, 5, 6, 6, 7, 7, 7, 7, 8, 8, 8, 8, 8, 9, 9, 9, 9, 9, 9, 9, 9, 10, 10, 10, 10, 10, 10, 10, 10, 10]\n",
            "choice_data - [0, 0, 0, 8, 0, 0, 0, 0, 1, 1, 1, 1, 1, 1, 1, 1, 1, 1, 1, 1, 1, 2, 2, 2, 2, 2, 2, 2, 2, 2, 2, 2, 2, 2, 2, 3, 3, 3, 3, 3, 3, 3, 3, 3, 3, 3, 3, 3, 3, 4, 4, 4, 4, 4, 4, 4, 4, 4, 4, 4, 4, 4, 4, 5, 5, 5, 5, 5, 5, 5, 5, 5, 5, 7, 7, 7, 7, 7, 7, 8, 8, 8, 8, 8, 9, 9, 9, 9, 9, 9, 9, 9, 10, 10, 10, 10, 10, 10, 10, 10, 8]\n",
            "Validation acc = 0.9603960396039604; F1 = 0.9535041739468065\n",
            "              precision    recall  f1-score   support\n",
            "\n",
            "           0       1.00      0.88      0.93         8\n",
            "           1       1.00      1.00      1.00        13\n",
            "           2       1.00      1.00      1.00        14\n",
            "           3       1.00      1.00      1.00        14\n",
            "           4       1.00      1.00      1.00        14\n",
            "           5       1.00      1.00      1.00        10\n",
            "           6       0.00      0.00      0.00         2\n",
            "           7       0.67      1.00      0.80         4\n",
            "           8       0.71      1.00      0.83         5\n",
            "           9       1.00      1.00      1.00         8\n",
            "          10       1.00      0.89      0.94         9\n",
            "\n",
            "    accuracy                           0.96       101\n",
            "   macro avg       0.85      0.89      0.86       101\n",
            "weighted avg       0.95      0.96      0.95       101\n",
            "\n",
            "[[ 7  0  0  0  0  0  0  0  1  0  0]\n",
            " [ 0 13  0  0  0  0  0  0  0  0  0]\n",
            " [ 0  0 14  0  0  0  0  0  0  0  0]\n",
            " [ 0  0  0 14  0  0  0  0  0  0  0]\n",
            " [ 0  0  0  0 14  0  0  0  0  0  0]\n",
            " [ 0  0  0  0  0 10  0  0  0  0  0]\n",
            " [ 0  0  0  0  0  0  0  2  0  0  0]\n",
            " [ 0  0  0  0  0  0  0  4  0  0  0]\n",
            " [ 0  0  0  0  0  0  0  0  5  0  0]\n",
            " [ 0  0  0  0  0  0  0  0  0  8  0]\n",
            " [ 0  0  0  0  0  0  0  0  1  0  8]]\n",
            "Axes(0.125,0.11;0.62x0.77)\n"
          ]
        },
        {
          "data": {
            "image/png": "[encoded data removed]",
            "text/plain": [
              "<Figure size 640x480 with 2 Axes>"
            ]
          },
          "metadata": {},
          "output_type": "display_data"
        },
        {
          "name": "stdout",
          "output_type": "stream",
          "text": [
            "=> Saving checkpoint at epoch 2\n"
          ]
        },
        {
          "name": "stderr",
          "output_type": "stream",
          "text": []
        },
        {
          "name": "stdout",
          "output_type": "stream",
          "text": [
            "\n",
            "====================================\n",
            "Epoch = 3\n",
            "====================================\n",
            "\n"
          ]
        },
        {
          "name": "stderr",
          "output_type": "stream",
          "text": [
            "Training loss: 4.52e-02; lr: 2.00e-06: 100%|██████████| 235/235 [01:25<00:00,  2.75it/s]\n",
            "Validating: 100%|██████████| 58/58 [00:06<00:00,  9.32it/s]\n"
          ]
        },
        {
          "name": "stdout",
          "output_type": "stream",
          "text": [
            "y_test - [0, 0, 0, 0, 0, 0, 0, 0, 1, 1, 1, 1, 1, 1, 1, 1, 1, 1, 1, 1, 1, 2, 2, 2, 2, 2, 2, 2, 2, 2, 2, 2, 2, 2, 2, 3, 3, 3, 3, 3, 3, 3, 3, 3, 3, 3, 3, 3, 3, 4, 4, 4, 4, 4, 4, 4, 4, 4, 4, 4, 4, 4, 4, 5, 5, 5, 5, 5, 5, 5, 5, 5, 5, 6, 6, 7, 7, 7, 7, 8, 8, 8, 8, 8, 9, 9, 9, 9, 9, 9, 9, 9, 10, 10, 10, 10, 10, 10, 10, 10, 10]\n",
            "choice_data - [0, 0, 0, 8, 0, 0, 0, 0, 1, 1, 1, 1, 1, 1, 1, 1, 1, 1, 1, 1, 1, 2, 2, 2, 2, 2, 2, 2, 2, 2, 2, 2, 2, 2, 2, 3, 3, 3, 3, 3, 3, 3, 3, 3, 3, 3, 3, 3, 3, 4, 4, 4, 4, 4, 4, 4, 4, 4, 4, 4, 4, 4, 4, 5, 5, 5, 5, 5, 5, 5, 5, 5, 5, 7, 7, 7, 7, 7, 7, 8, 8, 8, 8, 8, 9, 9, 9, 9, 9, 9, 9, 9, 10, 10, 10, 10, 10, 10, 10, 10, 8]\n",
            "Validation acc = 0.9603960396039604; F1 = 0.9535041739468065\n",
            "\n",
            "====================================\n",
            "Epoch = 4\n",
            "====================================\n",
            "\n"
          ]
        },
        {
          "name": "stderr",
          "output_type": "stream",
          "text": [
            "Training loss: 8.92e-02; lr: 0.00e+00: 100%|██████████| 235/235 [01:25<00:00,  2.74it/s]\n",
            "Validating: 100%|██████████| 58/58 [00:06<00:00,  9.37it/s]\n",
            "100%|██████████| 5/5 [07:35<00:00, 91.14s/it]\n",
            "1it [07:39, 459.66s/it]"
          ]
        },
        {
          "name": "stdout",
          "output_type": "stream",
          "text": [
            "y_test - [0, 0, 0, 0, 0, 0, 0, 0, 1, 1, 1, 1, 1, 1, 1, 1, 1, 1, 1, 1, 1, 2, 2, 2, 2, 2, 2, 2, 2, 2, 2, 2, 2, 2, 2, 3, 3, 3, 3, 3, 3, 3, 3, 3, 3, 3, 3, 3, 3, 4, 4, 4, 4, 4, 4, 4, 4, 4, 4, 4, 4, 4, 4, 5, 5, 5, 5, 5, 5, 5, 5, 5, 5, 6, 6, 7, 7, 7, 7, 8, 8, 8, 8, 8, 9, 9, 9, 9, 9, 9, 9, 9, 10, 10, 10, 10, 10, 10, 10, 10, 10]\n",
            "choice_data - [0, 0, 0, 8, 0, 0, 0, 0, 1, 1, 1, 1, 1, 1, 1, 1, 1, 1, 1, 1, 1, 2, 2, 2, 2, 2, 2, 2, 2, 2, 2, 2, 2, 2, 2, 3, 3, 3, 3, 3, 3, 3, 3, 3, 3, 3, 3, 3, 3, 4, 4, 4, 4, 4, 4, 4, 4, 4, 4, 4, 4, 4, 4, 5, 5, 5, 5, 5, 5, 5, 5, 5, 5, 7, 7, 7, 7, 7, 7, 8, 8, 8, 8, 8, 9, 9, 9, 9, 9, 9, 9, 9, 10, 10, 10, 10, 10, 10, 10, 10, 8]\n",
            "Validation acc = 0.9603960396039604; F1 = 0.9535041739468065\n",
            "\n",
            "====================================\n",
            "Fold 1:\n",
            "====================================\n",
            "\n",
            "  Train: сэмплов - 401\n",
            "\n",
            "  Test:  сэмплов - 100\n",
            "\n"
          ]
        },
        {
          "name": "stderr",
          "output_type": "stream",
          "text": [
            "Some weights of the model checkpoint at DeepPavlov/rubert-base-cased were not used when initializing BertModel: ['cls.predictions.bias', 'cls.predictions.decoder.bias', 'cls.predictions.decoder.weight', 'cls.predictions.transform.LayerNorm.bias', 'cls.predictions.transform.LayerNorm.weight', 'cls.predictions.transform.dense.bias', 'cls.predictions.transform.dense.weight', 'cls.seq_relationship.bias', 'cls.seq_relationship.weight']\n",
            "- This IS expected if you are initializing BertModel from the checkpoint of a model trained on another task or with another architecture (e.g. initializing a BertForSequenceClassification model from a BertForPreTraining model).\n",
            "- This IS NOT expected if you are initializing BertModel from the checkpoint of a model that you expect to be exactly identical (initializing a BertForSequenceClassification model from a BertForSequenceClassification model).\n"
          ]
        },
        {
          "name": "stdout",
          "output_type": "stream",
          "text": [
            "\n",
            "====================================\n",
            "Epoch = 0\n",
            "====================================\n",
            "\n"
          ]
        },
        {
          "name": "stderr",
          "output_type": "stream",
          "text": [
            "Training:   0%|          | 0/235 [00:00<?, ?it/s]Truncation was not explicitly activated but `max_length` is provided a specific value, please use `truncation=True` to explicitly truncate examples to max length. Defaulting to 'longest_first' truncation strategy. If you encode pairs of sequences (GLUE-style) with the tokenizer you can select this strategy more precisely by providing a specific strategy to `truncation`.\n",
            "Training loss: 7.53e-01; lr: 8.00e-06: 100%|██████████| 235/235 [01:26<00:00,  2.70it/s]\n",
            "Validating:   0%|          | 0/58 [00:00<?, ?it/s]Truncation was not explicitly activated but `max_length` is provided a specific value, please use `truncation=True` to explicitly truncate examples to max length. Defaulting to 'longest_first' truncation strategy. If you encode pairs of sequences (GLUE-style) with the tokenizer you can select this strategy more precisely by providing a specific strategy to `truncation`.\n",
            "Validating: 100%|██████████| 58/58 [00:06<00:00,  9.54it/s]\n"
          ]
        },
        {
          "name": "stdout",
          "output_type": "stream",
          "text": [
            "y_test - [0, 0, 0, 0, 0, 0, 0, 0, 1, 1, 1, 1, 1, 1, 1, 1, 1, 1, 1, 1, 2, 2, 2, 2, 2, 2, 2, 2, 2, 2, 2, 2, 2, 2, 2, 3, 3, 3, 3, 3, 3, 3, 3, 3, 3, 3, 3, 3, 3, 4, 4, 4, 4, 4, 4, 4, 4, 4, 4, 4, 4, 4, 5, 5, 5, 5, 5, 5, 5, 5, 5, 5, 6, 6, 7, 7, 7, 7, 7, 8, 8, 8, 8, 8, 9, 9, 9, 9, 9, 9, 9, 9, 10, 10, 10, 10, 10, 10, 10, 10]\n",
            "choice_data - [0, 3, 3, 3, 3, 0, 0, 8, 1, 1, 1, 1, 1, 1, 1, 1, 1, 1, 10, 2, 2, 2, 2, 2, 2, 2, 2, 7, 2, 2, 2, 2, 2, 2, 2, 3, 3, 3, 3, 3, 3, 3, 3, 3, 3, 3, 3, 3, 3, 4, 4, 4, 3, 4, 4, 4, 4, 4, 3, 4, 4, 9, 5, 5, 5, 5, 5, 5, 4, 5, 5, 5, 7, 7, 7, 7, 7, 7, 7, 8, 8, 8, 8, 8, 9, 9, 9, 9, 9, 9, 9, 9, 10, 10, 10, 10, 10, 10, 9, 10]\n",
            "Validation acc = 0.85; F1 = 0.836118760840123\n",
            "              precision    recall  f1-score   support\n",
            "\n",
            "           0       1.00      0.38      0.55         8\n",
            "           1       1.00      0.83      0.91        12\n",
            "           2       0.93      0.93      0.93        15\n",
            "           3       0.70      1.00      0.82        14\n",
            "           4       0.91      0.77      0.83        13\n",
            "           5       1.00      0.90      0.95        10\n",
            "           6       0.00      0.00      0.00         2\n",
            "           7       0.62      1.00      0.77         5\n",
            "           8       0.83      1.00      0.91         5\n",
            "           9       0.80      1.00      0.89         8\n",
            "          10       0.88      0.88      0.88         8\n",
            "\n",
            "    accuracy                           0.85       100\n",
            "   macro avg       0.79      0.79      0.77       100\n",
            "weighted avg       0.86      0.85      0.84       100\n",
            "\n",
            "[[ 3  0  0  4  0  0  0  0  1  0  0]\n",
            " [ 0 10  1  0  0  0  0  0  0  0  1]\n",
            " [ 0  0 14  0  0  0  0  1  0  0  0]\n",
            " [ 0  0  0 14  0  0  0  0  0  0  0]\n",
            " [ 0  0  0  2 10  0  0  0  0  1  0]\n",
            " [ 0  0  0  0  1  9  0  0  0  0  0]\n",
            " [ 0  0  0  0  0  0  0  2  0  0  0]\n",
            " [ 0  0  0  0  0  0  0  5  0  0  0]\n",
            " [ 0  0  0  0  0  0  0  0  5  0  0]\n",
            " [ 0  0  0  0  0  0  0  0  0  8  0]\n",
            " [ 0  0  0  0  0  0  0  0  0  1  7]]\n",
            "Axes(0.125,0.11;0.62x0.77)\n"
          ]
        },
        {
          "data": {
            "image/png": "[encoded data removed]",
            "text/plain": [
              "<Figure size 640x480 with 2 Axes>"
            ]
          },
          "metadata": {},
          "output_type": "display_data"
        },
        {
          "name": "stdout",
          "output_type": "stream",
          "text": [
            "=> Saving checkpoint at epoch 0\n"
          ]
        },
        {
          "name": "stderr",
          "output_type": "stream",
          "text": []
        },
        {
          "name": "stdout",
          "output_type": "stream",
          "text": [
            "\n",
            "====================================\n",
            "Epoch = 1\n",
            "====================================\n",
            "\n"
          ]
        },
        {
          "name": "stderr",
          "output_type": "stream",
          "text": [
            "Training loss: 3.79e-01; lr: 6.00e-06: 100%|██████████| 235/235 [01:26<00:00,  2.72it/s]\n",
            "Validating: 100%|██████████| 58/58 [00:06<00:00,  9.51it/s]\n"
          ]
        },
        {
          "name": "stdout",
          "output_type": "stream",
          "text": [
            "y_test - [0, 0, 0, 0, 0, 0, 0, 0, 1, 1, 1, 1, 1, 1, 1, 1, 1, 1, 1, 1, 2, 2, 2, 2, 2, 2, 2, 2, 2, 2, 2, 2, 2, 2, 2, 3, 3, 3, 3, 3, 3, 3, 3, 3, 3, 3, 3, 3, 3, 4, 4, 4, 4, 4, 4, 4, 4, 4, 4, 4, 4, 4, 5, 5, 5, 5, 5, 5, 5, 5, 5, 5, 6, 6, 7, 7, 7, 7, 7, 8, 8, 8, 8, 8, 9, 9, 9, 9, 9, 9, 9, 9, 10, 10, 10, 10, 10, 10, 10, 10]\n",
            "choice_data - [0, 0, 0, 0, 0, 0, 0, 8, 1, 1, 1, 1, 1, 1, 1, 1, 1, 1, 1, 1, 2, 2, 2, 2, 2, 2, 2, 2, 2, 2, 2, 2, 2, 2, 2, 3, 3, 3, 3, 3, 3, 3, 3, 3, 3, 3, 3, 3, 3, 4, 4, 4, 4, 4, 4, 4, 4, 4, 4, 4, 4, 9, 5, 5, 5, 5, 5, 5, 5, 5, 5, 5, 7, 7, 7, 7, 7, 7, 7, 8, 8, 8, 8, 8, 9, 9, 9, 9, 9, 9, 9, 9, 10, 10, 10, 10, 10, 10, 10, 10]\n",
            "Validation acc = 0.96; F1 = 0.9518819964349378\n",
            "              precision    recall  f1-score   support\n",
            "\n",
            "           0       1.00      0.88      0.93         8\n",
            "           1       1.00      1.00      1.00        12\n",
            "           2       1.00      1.00      1.00        15\n",
            "           3       1.00      1.00      1.00        14\n",
            "           4       1.00      0.92      0.96        13\n",
            "           5       1.00      1.00      1.00        10\n",
            "           6       0.00      0.00      0.00         2\n",
            "           7       0.71      1.00      0.83         5\n",
            "           8       0.83      1.00      0.91         5\n",
            "           9       0.89      1.00      0.94         8\n",
            "          10       1.00      1.00      1.00         8\n",
            "\n",
            "    accuracy                           0.96       100\n",
            "   macro avg       0.86      0.89      0.87       100\n",
            "weighted avg       0.95      0.96      0.95       100\n",
            "\n",
            "[[ 7  0  0  0  0  0  0  0  1  0  0]\n",
            " [ 0 12  0  0  0  0  0  0  0  0  0]\n",
            " [ 0  0 15  0  0  0  0  0  0  0  0]\n",
            " [ 0  0  0 14  0  0  0  0  0  0  0]\n",
            " [ 0  0  0  0 12  0  0  0  0  1  0]\n",
            " [ 0  0  0  0  0 10  0  0  0  0  0]\n",
            " [ 0  0  0  0  0  0  0  2  0  0  0]\n",
            " [ 0  0  0  0  0  0  0  5  0  0  0]\n",
            " [ 0  0  0  0  0  0  0  0  5  0  0]\n",
            " [ 0  0  0  0  0  0  0  0  0  8  0]\n",
            " [ 0  0  0  0  0  0  0  0  0  0  8]]\n",
            "Axes(0.125,0.11;0.62x0.77)\n"
          ]
        },
        {
          "data": {
            "image/png": "[encoded data removed]",
            "text/plain": [
              "<Figure size 640x480 with 2 Axes>"
            ]
          },
          "metadata": {},
          "output_type": "display_data"
        },
        {
          "name": "stdout",
          "output_type": "stream",
          "text": [
            "=> Saving checkpoint at epoch 1\n"
          ]
        },
        {
          "name": "stderr",
          "output_type": "stream",
          "text": []
        },
        {
          "name": "stdout",
          "output_type": "stream",
          "text": [
            "\n",
            "====================================\n",
            "Epoch = 2\n",
            "====================================\n",
            "\n"
          ]
        },
        {
          "name": "stderr",
          "output_type": "stream",
          "text": [
            "Training loss: 4.68e-01; lr: 4.00e-06: 100%|██████████| 235/235 [01:28<00:00,  2.64it/s]\n",
            "Validating: 100%|██████████| 58/58 [00:06<00:00,  8.52it/s]\n"
          ]
        },
        {
          "name": "stdout",
          "output_type": "stream",
          "text": [
            "y_test - [0, 0, 0, 0, 0, 0, 0, 0, 1, 1, 1, 1, 1, 1, 1, 1, 1, 1, 1, 1, 2, 2, 2, 2, 2, 2, 2, 2, 2, 2, 2, 2, 2, 2, 2, 3, 3, 3, 3, 3, 3, 3, 3, 3, 3, 3, 3, 3, 3, 4, 4, 4, 4, 4, 4, 4, 4, 4, 4, 4, 4, 4, 5, 5, 5, 5, 5, 5, 5, 5, 5, 5, 6, 6, 7, 7, 7, 7, 7, 8, 8, 8, 8, 8, 9, 9, 9, 9, 9, 9, 9, 9, 10, 10, 10, 10, 10, 10, 10, 10]\n",
            "choice_data - [0, 3, 0, 0, 0, 0, 0, 8, 1, 1, 1, 1, 1, 1, 1, 1, 1, 1, 1, 1, 2, 2, 2, 2, 2, 2, 2, 2, 2, 2, 2, 2, 2, 2, 2, 3, 3, 3, 3, 3, 3, 3, 3, 3, 3, 3, 3, 3, 3, 4, 4, 4, 4, 4, 4, 4, 4, 4, 4, 4, 4, 9, 5, 5, 5, 5, 5, 5, 5, 5, 5, 5, 7, 7, 7, 7, 7, 7, 7, 8, 8, 8, 8, 8, 9, 9, 9, 9, 9, 9, 9, 9, 10, 10, 10, 10, 10, 10, 10, 10]\n",
            "Validation acc = 0.95; F1 = 0.940959172132803\n",
            "\n",
            "====================================\n",
            "Epoch = 3\n",
            "====================================\n",
            "\n"
          ]
        },
        {
          "name": "stderr",
          "output_type": "stream",
          "text": [
            "Training loss: 4.05e-01; lr: 2.00e-06: 100%|██████████| 235/235 [01:33<00:00,  2.51it/s]\n",
            "Validating: 100%|██████████| 58/58 [00:06<00:00,  8.95it/s]\n"
          ]
        },
        {
          "name": "stdout",
          "output_type": "stream",
          "text": [
            "y_test - [0, 0, 0, 0, 0, 0, 0, 0, 1, 1, 1, 1, 1, 1, 1, 1, 1, 1, 1, 1, 2, 2, 2, 2, 2, 2, 2, 2, 2, 2, 2, 2, 2, 2, 2, 3, 3, 3, 3, 3, 3, 3, 3, 3, 3, 3, 3, 3, 3, 4, 4, 4, 4, 4, 4, 4, 4, 4, 4, 4, 4, 4, 5, 5, 5, 5, 5, 5, 5, 5, 5, 5, 6, 6, 7, 7, 7, 7, 7, 8, 8, 8, 8, 8, 9, 9, 9, 9, 9, 9, 9, 9, 10, 10, 10, 10, 10, 10, 10, 10]\n",
            "choice_data - [0, 0, 0, 0, 0, 0, 0, 8, 1, 1, 1, 1, 1, 1, 1, 1, 1, 1, 1, 1, 2, 2, 2, 2, 2, 2, 2, 2, 2, 2, 2, 2, 2, 2, 2, 3, 3, 3, 3, 3, 3, 3, 3, 3, 3, 3, 3, 3, 3, 4, 4, 4, 4, 4, 4, 4, 4, 4, 4, 4, 4, 9, 5, 5, 5, 5, 5, 5, 5, 5, 5, 5, 7, 7, 7, 7, 7, 7, 7, 8, 8, 8, 8, 8, 9, 9, 9, 9, 9, 9, 9, 9, 10, 10, 10, 10, 10, 10, 10, 10]\n",
            "Validation acc = 0.96; F1 = 0.9518819964349378\n",
            "\n",
            "====================================\n",
            "Epoch = 4\n",
            "====================================\n",
            "\n"
          ]
        },
        {
          "name": "stderr",
          "output_type": "stream",
          "text": [
            "Training loss: 1.19e-01; lr: 0.00e+00: 100%|██████████| 235/235 [01:26<00:00,  2.71it/s]\n",
            "Validating: 100%|██████████| 58/58 [00:06<00:00,  9.51it/s]\n",
            "100%|██████████| 5/5 [07:56<00:00, 95.22s/it]\n",
            "2it [15:39, 471.74s/it]"
          ]
        },
        {
          "name": "stdout",
          "output_type": "stream",
          "text": [
            "y_test - [0, 0, 0, 0, 0, 0, 0, 0, 1, 1, 1, 1, 1, 1, 1, 1, 1, 1, 1, 1, 2, 2, 2, 2, 2, 2, 2, 2, 2, 2, 2, 2, 2, 2, 2, 3, 3, 3, 3, 3, 3, 3, 3, 3, 3, 3, 3, 3, 3, 4, 4, 4, 4, 4, 4, 4, 4, 4, 4, 4, 4, 4, 5, 5, 5, 5, 5, 5, 5, 5, 5, 5, 6, 6, 7, 7, 7, 7, 7, 8, 8, 8, 8, 8, 9, 9, 9, 9, 9, 9, 9, 9, 10, 10, 10, 10, 10, 10, 10, 10]\n",
            "choice_data - [0, 0, 0, 0, 0, 0, 0, 8, 1, 1, 1, 1, 1, 1, 1, 1, 1, 1, 1, 1, 2, 2, 2, 2, 2, 2, 2, 2, 2, 2, 2, 2, 2, 2, 2, 3, 3, 3, 3, 3, 3, 3, 3, 3, 3, 3, 3, 3, 3, 4, 4, 4, 4, 4, 4, 4, 4, 4, 4, 4, 4, 9, 5, 5, 5, 5, 5, 5, 5, 5, 5, 5, 7, 7, 7, 7, 7, 7, 7, 8, 8, 8, 8, 8, 9, 9, 9, 4, 9, 9, 9, 9, 10, 10, 10, 10, 10, 10, 10, 10]\n",
            "Validation acc = 0.95; F1 = 0.9417878787878787\n",
            "\n",
            "====================================\n",
            "Fold 2:\n",
            "====================================\n",
            "\n",
            "  Train: сэмплов - 401\n",
            "\n",
            "  Test:  сэмплов - 100\n",
            "\n"
          ]
        },
        {
          "name": "stderr",
          "output_type": "stream",
          "text": [
            "Some weights of the model checkpoint at DeepPavlov/rubert-base-cased were not used when initializing BertModel: ['cls.predictions.bias', 'cls.predictions.decoder.bias', 'cls.predictions.decoder.weight', 'cls.predictions.transform.LayerNorm.bias', 'cls.predictions.transform.LayerNorm.weight', 'cls.predictions.transform.dense.bias', 'cls.predictions.transform.dense.weight', 'cls.seq_relationship.bias', 'cls.seq_relationship.weight']\n",
            "- This IS expected if you are initializing BertModel from the checkpoint of a model trained on another task or with another architecture (e.g. initializing a BertForSequenceClassification model from a BertForPreTraining model).\n",
            "- This IS NOT expected if you are initializing BertModel from the checkpoint of a model that you expect to be exactly identical (initializing a BertForSequenceClassification model from a BertForSequenceClassification model).\n"
          ]
        },
        {
          "name": "stdout",
          "output_type": "stream",
          "text": [
            "\n",
            "====================================\n",
            "Epoch = 0\n",
            "====================================\n",
            "\n"
          ]
        },
        {
          "name": "stderr",
          "output_type": "stream",
          "text": [
            "Training:   0%|          | 0/233 [00:00<?, ?it/s]Truncation was not explicitly activated but `max_length` is provided a specific value, please use `truncation=True` to explicitly truncate examples to max length. Defaulting to 'longest_first' truncation strategy. If you encode pairs of sequences (GLUE-style) with the tokenizer you can select this strategy more precisely by providing a specific strategy to `truncation`.\n",
            "Training loss: 6.28e-01; lr: 8.00e-06: 100%|██████████| 233/233 [01:25<00:00,  2.74it/s]\n",
            "Validating:   0%|          | 0/60 [00:00<?, ?it/s]Truncation was not explicitly activated but `max_length` is provided a specific value, please use `truncation=True` to explicitly truncate examples to max length. Defaulting to 'longest_first' truncation strategy. If you encode pairs of sequences (GLUE-style) with the tokenizer you can select this strategy more precisely by providing a specific strategy to `truncation`.\n",
            "Validating: 100%|██████████| 60/60 [00:06<00:00,  9.12it/s]\n"
          ]
        },
        {
          "name": "stdout",
          "output_type": "stream",
          "text": [
            "y_test - [0, 0, 0, 0, 0, 0, 0, 0, 1, 1, 1, 1, 1, 1, 1, 1, 1, 1, 1, 1, 2, 2, 2, 2, 2, 2, 2, 2, 2, 2, 2, 2, 2, 2, 3, 3, 3, 3, 3, 3, 3, 3, 3, 3, 3, 3, 3, 3, 4, 4, 4, 4, 4, 4, 4, 4, 4, 4, 4, 4, 4, 4, 5, 5, 5, 5, 5, 5, 5, 5, 5, 5, 6, 6, 7, 7, 7, 7, 8, 8, 8, 8, 8, 9, 9, 9, 9, 9, 9, 9, 9, 9, 10, 10, 10, 10, 10, 10, 10, 10]\n",
            "choice_data - [8, 0, 4, 3, 0, 0, 0, 0, 1, 1, 1, 1, 1, 1, 1, 1, 1, 1, 1, 1, 8, 2, 2, 2, 2, 2, 2, 2, 2, 2, 2, 2, 2, 2, 3, 3, 3, 3, 3, 3, 3, 3, 3, 3, 3, 3, 3, 3, 4, 4, 4, 4, 4, 0, 10, 4, 4, 4, 4, 4, 4, 4, 5, 5, 5, 5, 4, 5, 5, 5, 5, 5, 5, 4, 7, 7, 7, 7, 8, 8, 8, 8, 8, 9, 9, 9, 9, 9, 9, 9, 9, 9, 10, 10, 10, 10, 10, 10, 10, 10]\n",
            "Validation acc = 0.91; F1 = 0.8999529390300183\n",
            "              precision    recall  f1-score   support\n",
            "\n",
            "           0       0.83      0.62      0.71         8\n",
            "           1       1.00      1.00      1.00        12\n",
            "           2       1.00      0.93      0.96        14\n",
            "           3       0.93      1.00      0.97        14\n",
            "           4       0.80      0.86      0.83        14\n",
            "           5       0.90      0.90      0.90        10\n",
            "           6       0.00      0.00      0.00         2\n",
            "           7       1.00      1.00      1.00         4\n",
            "           8       0.71      1.00      0.83         5\n",
            "           9       1.00      1.00      1.00         9\n",
            "          10       0.89      1.00      0.94         8\n",
            "\n",
            "    accuracy                           0.91       100\n",
            "   macro avg       0.82      0.85      0.83       100\n",
            "weighted avg       0.90      0.91      0.90       100\n",
            "\n",
            "[[ 5  0  0  1  1  0  0  0  1  0  0]\n",
            " [ 0 12  0  0  0  0  0  0  0  0  0]\n",
            " [ 0  0 13  0  0  0  0  0  1  0  0]\n",
            " [ 0  0  0 14  0  0  0  0  0  0  0]\n",
            " [ 1  0  0  0 12  0  0  0  0  0  1]\n",
            " [ 0  0  0  0  1  9  0  0  0  0  0]\n",
            " [ 0  0  0  0  1  1  0  0  0  0  0]\n",
            " [ 0  0  0  0  0  0  0  4  0  0  0]\n",
            " [ 0  0  0  0  0  0  0  0  5  0  0]\n",
            " [ 0  0  0  0  0  0  0  0  0  9  0]\n",
            " [ 0  0  0  0  0  0  0  0  0  0  8]]\n",
            "Axes(0.125,0.11;0.62x0.77)\n"
          ]
        },
        {
          "data": {
            "image/png": "[encoded data removed]",
            "text/plain": [
              "<Figure size 640x480 with 2 Axes>"
            ]
          },
          "metadata": {},
          "output_type": "display_data"
        },
        {
          "name": "stdout",
          "output_type": "stream",
          "text": [
            "=> Saving checkpoint at epoch 0\n"
          ]
        },
        {
          "name": "stderr",
          "output_type": "stream",
          "text": []
        },
        {
          "name": "stdout",
          "output_type": "stream",
          "text": [
            "\n",
            "====================================\n",
            "Epoch = 1\n",
            "====================================\n",
            "\n"
          ]
        },
        {
          "name": "stderr",
          "output_type": "stream",
          "text": [
            "Training loss: 5.15e-01; lr: 6.00e-06: 100%|██████████| 233/233 [01:26<00:00,  2.70it/s]\n",
            "Validating: 100%|██████████| 60/60 [00:06<00:00,  9.16it/s]\n"
          ]
        },
        {
          "name": "stdout",
          "output_type": "stream",
          "text": [
            "y_test - [0, 0, 0, 0, 0, 0, 0, 0, 1, 1, 1, 1, 1, 1, 1, 1, 1, 1, 1, 1, 2, 2, 2, 2, 2, 2, 2, 2, 2, 2, 2, 2, 2, 2, 3, 3, 3, 3, 3, 3, 3, 3, 3, 3, 3, 3, 3, 3, 4, 4, 4, 4, 4, 4, 4, 4, 4, 4, 4, 4, 4, 4, 5, 5, 5, 5, 5, 5, 5, 5, 5, 5, 6, 6, 7, 7, 7, 7, 8, 8, 8, 8, 8, 9, 9, 9, 9, 9, 9, 9, 9, 9, 10, 10, 10, 10, 10, 10, 10, 10]\n",
            "choice_data - [8, 0, 0, 0, 0, 0, 0, 0, 1, 1, 1, 1, 1, 1, 1, 1, 1, 1, 1, 1, 2, 2, 2, 2, 2, 2, 2, 2, 2, 2, 2, 2, 2, 2, 3, 3, 3, 3, 3, 3, 3, 3, 3, 3, 3, 3, 3, 3, 4, 4, 4, 4, 4, 4, 4, 4, 4, 4, 4, 4, 4, 4, 5, 5, 5, 5, 5, 5, 5, 5, 5, 5, 5, 5, 7, 7, 7, 7, 8, 8, 8, 8, 8, 9, 9, 9, 9, 9, 9, 4, 9, 9, 10, 10, 10, 10, 10, 10, 10, 10]\n",
            "Validation acc = 0.96; F1 = 0.9509085991763477\n",
            "              precision    recall  f1-score   support\n",
            "\n",
            "           0       1.00      0.88      0.93         8\n",
            "           1       1.00      1.00      1.00        12\n",
            "           2       1.00      1.00      1.00        14\n",
            "           3       1.00      1.00      1.00        14\n",
            "           4       0.93      1.00      0.97        14\n",
            "           5       0.83      1.00      0.91        10\n",
            "           6       0.00      0.00      0.00         2\n",
            "           7       1.00      1.00      1.00         4\n",
            "           8       0.83      1.00      0.91         5\n",
            "           9       1.00      0.89      0.94         9\n",
            "          10       1.00      1.00      1.00         8\n",
            "\n",
            "    accuracy                           0.96       100\n",
            "   macro avg       0.87      0.89      0.88       100\n",
            "weighted avg       0.95      0.96      0.95       100\n",
            "\n",
            "[[ 7  0  0  0  0  0  0  0  1  0  0]\n",
            " [ 0 12  0  0  0  0  0  0  0  0  0]\n",
            " [ 0  0 14  0  0  0  0  0  0  0  0]\n",
            " [ 0  0  0 14  0  0  0  0  0  0  0]\n",
            " [ 0  0  0  0 14  0  0  0  0  0  0]\n",
            " [ 0  0  0  0  0 10  0  0  0  0  0]\n",
            " [ 0  0  0  0  0  2  0  0  0  0  0]\n",
            " [ 0  0  0  0  0  0  0  4  0  0  0]\n",
            " [ 0  0  0  0  0  0  0  0  5  0  0]\n",
            " [ 0  0  0  0  1  0  0  0  0  8  0]\n",
            " [ 0  0  0  0  0  0  0  0  0  0  8]]\n",
            "Axes(0.125,0.11;0.62x0.77)\n"
          ]
        },
        {
          "data": {
            "image/png": "[encoded data removed]",
            "text/plain": [
              "<Figure size 640x480 with 2 Axes>"
            ]
          },
          "metadata": {},
          "output_type": "display_data"
        },
        {
          "name": "stdout",
          "output_type": "stream",
          "text": [
            "=> Saving checkpoint at epoch 1\n"
          ]
        },
        {
          "name": "stderr",
          "output_type": "stream",
          "text": []
        },
        {
          "name": "stdout",
          "output_type": "stream",
          "text": [
            "\n",
            "====================================\n",
            "Epoch = 2\n",
            "====================================\n",
            "\n"
          ]
        },
        {
          "name": "stderr",
          "output_type": "stream",
          "text": [
            "Training loss: 5.77e-01; lr: 4.00e-06: 100%|██████████| 233/233 [01:27<00:00,  2.67it/s]\n",
            "Validating: 100%|██████████| 60/60 [00:06<00:00,  9.19it/s]\n"
          ]
        },
        {
          "name": "stdout",
          "output_type": "stream",
          "text": [
            "y_test - [0, 0, 0, 0, 0, 0, 0, 0, 1, 1, 1, 1, 1, 1, 1, 1, 1, 1, 1, 1, 2, 2, 2, 2, 2, 2, 2, 2, 2, 2, 2, 2, 2, 2, 3, 3, 3, 3, 3, 3, 3, 3, 3, 3, 3, 3, 3, 3, 4, 4, 4, 4, 4, 4, 4, 4, 4, 4, 4, 4, 4, 4, 5, 5, 5, 5, 5, 5, 5, 5, 5, 5, 6, 6, 7, 7, 7, 7, 8, 8, 8, 8, 8, 9, 9, 9, 9, 9, 9, 9, 9, 9, 10, 10, 10, 10, 10, 10, 10, 10]\n",
            "choice_data - [0, 0, 0, 0, 0, 0, 0, 0, 1, 1, 1, 1, 1, 1, 1, 1, 1, 1, 1, 1, 2, 2, 2, 2, 2, 2, 2, 2, 2, 2, 2, 2, 2, 2, 3, 3, 3, 3, 3, 3, 3, 3, 3, 3, 3, 3, 3, 3, 4, 4, 4, 4, 4, 4, 4, 4, 4, 4, 4, 4, 4, 4, 5, 5, 5, 5, 4, 5, 5, 5, 5, 5, 5, 5, 7, 7, 7, 7, 8, 8, 8, 8, 8, 9, 9, 9, 9, 9, 9, 4, 9, 9, 10, 10, 10, 10, 10, 10, 10, 10]\n",
            "Validation acc = 0.96; F1 = 0.9510868347338937\n",
            "              precision    recall  f1-score   support\n",
            "\n",
            "           0       1.00      1.00      1.00         8\n",
            "           1       1.00      1.00      1.00        12\n",
            "           2       1.00      1.00      1.00        14\n",
            "           3       1.00      1.00      1.00        14\n",
            "           4       0.88      1.00      0.93        14\n",
            "           5       0.82      0.90      0.86        10\n",
            "           6       0.00      0.00      0.00         2\n",
            "           7       1.00      1.00      1.00         4\n",
            "           8       1.00      1.00      1.00         5\n",
            "           9       1.00      0.89      0.94         9\n",
            "          10       1.00      1.00      1.00         8\n",
            "\n",
            "    accuracy                           0.96       100\n",
            "   macro avg       0.88      0.89      0.88       100\n",
            "weighted avg       0.94      0.96      0.95       100\n",
            "\n",
            "[[ 8  0  0  0  0  0  0  0  0  0  0]\n",
            " [ 0 12  0  0  0  0  0  0  0  0  0]\n",
            " [ 0  0 14  0  0  0  0  0  0  0  0]\n",
            " [ 0  0  0 14  0  0  0  0  0  0  0]\n",
            " [ 0  0  0  0 14  0  0  0  0  0  0]\n",
            " [ 0  0  0  0  1  9  0  0  0  0  0]\n",
            " [ 0  0  0  0  0  2  0  0  0  0  0]\n",
            " [ 0  0  0  0  0  0  0  4  0  0  0]\n",
            " [ 0  0  0  0  0  0  0  0  5  0  0]\n",
            " [ 0  0  0  0  1  0  0  0  0  8  0]\n",
            " [ 0  0  0  0  0  0  0  0  0  0  8]]\n",
            "Axes(0.125,0.11;0.62x0.77)\n"
          ]
        },
        {
          "data": {
            "image/png": "[encoded data removed]",
            "text/plain": [
              "<Figure size 640x480 with 2 Axes>"
            ]
          },
          "metadata": {},
          "output_type": "display_data"
        },
        {
          "name": "stdout",
          "output_type": "stream",
          "text": [
            "=> Saving checkpoint at epoch 2\n"
          ]
        },
        {
          "name": "stderr",
          "output_type": "stream",
          "text": []
        },
        {
          "name": "stdout",
          "output_type": "stream",
          "text": [
            "\n",
            "====================================\n",
            "Epoch = 3\n",
            "====================================\n",
            "\n"
          ]
        },
        {
          "name": "stderr",
          "output_type": "stream",
          "text": [
            "Training loss: 5.87e-02; lr: 2.00e-06: 100%|██████████| 233/233 [01:26<00:00,  2.68it/s]\n",
            "Validating: 100%|██████████| 60/60 [00:06<00:00,  9.37it/s]\n"
          ]
        },
        {
          "name": "stdout",
          "output_type": "stream",
          "text": [
            "y_test - [0, 0, 0, 0, 0, 0, 0, 0, 1, 1, 1, 1, 1, 1, 1, 1, 1, 1, 1, 1, 2, 2, 2, 2, 2, 2, 2, 2, 2, 2, 2, 2, 2, 2, 3, 3, 3, 3, 3, 3, 3, 3, 3, 3, 3, 3, 3, 3, 4, 4, 4, 4, 4, 4, 4, 4, 4, 4, 4, 4, 4, 4, 5, 5, 5, 5, 5, 5, 5, 5, 5, 5, 6, 6, 7, 7, 7, 7, 8, 8, 8, 8, 8, 9, 9, 9, 9, 9, 9, 9, 9, 9, 10, 10, 10, 10, 10, 10, 10, 10]\n",
            "choice_data - [0, 0, 0, 0, 0, 0, 0, 0, 1, 1, 1, 1, 1, 1, 1, 1, 1, 1, 1, 1, 2, 2, 2, 2, 2, 2, 2, 2, 2, 2, 2, 2, 2, 2, 3, 3, 3, 3, 3, 3, 3, 3, 3, 3, 3, 3, 3, 3, 4, 4, 4, 4, 4, 4, 4, 4, 4, 4, 4, 4, 4, 4, 5, 5, 5, 5, 5, 5, 5, 5, 5, 5, 5, 5, 7, 7, 7, 7, 8, 8, 8, 8, 8, 9, 9, 9, 9, 9, 9, 4, 9, 9, 10, 10, 10, 10, 10, 10, 10, 10]\n",
            "Validation acc = 0.97; F1 = 0.9607873870551356\n",
            "              precision    recall  f1-score   support\n",
            "\n",
            "           0       1.00      1.00      1.00         8\n",
            "           1       1.00      1.00      1.00        12\n",
            "           2       1.00      1.00      1.00        14\n",
            "           3       1.00      1.00      1.00        14\n",
            "           4       0.93      1.00      0.97        14\n",
            "           5       0.83      1.00      0.91        10\n",
            "           6       0.00      0.00      0.00         2\n",
            "           7       1.00      1.00      1.00         4\n",
            "           8       1.00      1.00      1.00         5\n",
            "           9       1.00      0.89      0.94         9\n",
            "          10       1.00      1.00      1.00         8\n",
            "\n",
            "    accuracy                           0.97       100\n",
            "   macro avg       0.89      0.90      0.89       100\n",
            "weighted avg       0.95      0.97      0.96       100\n",
            "\n",
            "[[ 8  0  0  0  0  0  0  0  0  0  0]\n",
            " [ 0 12  0  0  0  0  0  0  0  0  0]\n",
            " [ 0  0 14  0  0  0  0  0  0  0  0]\n",
            " [ 0  0  0 14  0  0  0  0  0  0  0]\n",
            " [ 0  0  0  0 14  0  0  0  0  0  0]\n",
            " [ 0  0  0  0  0 10  0  0  0  0  0]\n",
            " [ 0  0  0  0  0  2  0  0  0  0  0]\n",
            " [ 0  0  0  0  0  0  0  4  0  0  0]\n",
            " [ 0  0  0  0  0  0  0  0  5  0  0]\n",
            " [ 0  0  0  0  1  0  0  0  0  8  0]\n",
            " [ 0  0  0  0  0  0  0  0  0  0  8]]\n",
            "Axes(0.125,0.11;0.62x0.77)\n"
          ]
        },
        {
          "data": {
            "image/png": "[encoded data removed]",
            "text/plain": [
              "<Figure size 640x480 with 2 Axes>"
            ]
          },
          "metadata": {},
          "output_type": "display_data"
        },
        {
          "name": "stdout",
          "output_type": "stream",
          "text": [
            "=> Saving checkpoint at epoch 3\n"
          ]
        },
        {
          "name": "stderr",
          "output_type": "stream",
          "text": []
        },
        {
          "name": "stdout",
          "output_type": "stream",
          "text": [
            "\n",
            "====================================\n",
            "Epoch = 4\n",
            "====================================\n",
            "\n"
          ]
        },
        {
          "name": "stderr",
          "output_type": "stream",
          "text": [
            "Training loss: 1.97e-01; lr: 0.00e+00: 100%|██████████| 233/233 [01:27<00:00,  2.65it/s]\n",
            "Validating: 100%|██████████| 60/60 [00:06<00:00,  9.16it/s]\n",
            "100%|██████████| 5/5 [07:49<00:00, 93.88s/it]\n",
            "3it [23:32, 472.33s/it]"
          ]
        },
        {
          "name": "stdout",
          "output_type": "stream",
          "text": [
            "y_test - [0, 0, 0, 0, 0, 0, 0, 0, 1, 1, 1, 1, 1, 1, 1, 1, 1, 1, 1, 1, 2, 2, 2, 2, 2, 2, 2, 2, 2, 2, 2, 2, 2, 2, 3, 3, 3, 3, 3, 3, 3, 3, 3, 3, 3, 3, 3, 3, 4, 4, 4, 4, 4, 4, 4, 4, 4, 4, 4, 4, 4, 4, 5, 5, 5, 5, 5, 5, 5, 5, 5, 5, 6, 6, 7, 7, 7, 7, 8, 8, 8, 8, 8, 9, 9, 9, 9, 9, 9, 9, 9, 9, 10, 10, 10, 10, 10, 10, 10, 10]\n",
            "choice_data - [0, 0, 0, 0, 0, 0, 0, 0, 1, 1, 1, 1, 1, 1, 1, 1, 1, 1, 1, 1, 2, 2, 2, 2, 2, 2, 2, 2, 2, 2, 2, 2, 2, 2, 3, 3, 3, 3, 3, 3, 3, 3, 3, 3, 3, 3, 3, 3, 4, 4, 4, 4, 4, 4, 4, 4, 4, 4, 4, 4, 4, 4, 5, 5, 5, 5, 5, 5, 5, 5, 5, 5, 5, 5, 7, 7, 7, 7, 8, 8, 8, 8, 8, 9, 9, 9, 9, 9, 9, 4, 9, 9, 10, 10, 10, 10, 10, 10, 10, 4]\n",
            "Validation acc = 0.96; F1 = 0.9509483065953654\n",
            "\n",
            "====================================\n",
            "Fold 3:\n",
            "====================================\n",
            "\n",
            "  Train: сэмплов - 401\n",
            "\n",
            "  Test:  сэмплов - 100\n",
            "\n"
          ]
        },
        {
          "name": "stderr",
          "output_type": "stream",
          "text": [
            "Some weights of the model checkpoint at DeepPavlov/rubert-base-cased were not used when initializing BertModel: ['cls.predictions.bias', 'cls.predictions.decoder.bias', 'cls.predictions.decoder.weight', 'cls.predictions.transform.LayerNorm.bias', 'cls.predictions.transform.LayerNorm.weight', 'cls.predictions.transform.dense.bias', 'cls.predictions.transform.dense.weight', 'cls.seq_relationship.bias', 'cls.seq_relationship.weight']\n",
            "- This IS expected if you are initializing BertModel from the checkpoint of a model trained on another task or with another architecture (e.g. initializing a BertForSequenceClassification model from a BertForPreTraining model).\n",
            "- This IS NOT expected if you are initializing BertModel from the checkpoint of a model that you expect to be exactly identical (initializing a BertForSequenceClassification model from a BertForSequenceClassification model).\n"
          ]
        },
        {
          "name": "stdout",
          "output_type": "stream",
          "text": [
            "\n",
            "====================================\n",
            "Epoch = 0\n",
            "====================================\n",
            "\n"
          ]
        },
        {
          "name": "stderr",
          "output_type": "stream",
          "text": [
            "Training:   0%|          | 0/230 [00:00<?, ?it/s]Truncation was not explicitly activated but `max_length` is provided a specific value, please use `truncation=True` to explicitly truncate examples to max length. Defaulting to 'longest_first' truncation strategy. If you encode pairs of sequences (GLUE-style) with the tokenizer you can select this strategy more precisely by providing a specific strategy to `truncation`.\n",
            "Training loss: 8.99e-01; lr: 8.00e-06: 100%|██████████| 230/230 [01:27<00:00,  2.62it/s]\n",
            "Validating:   0%|          | 0/63 [00:00<?, ?it/s]Truncation was not explicitly activated but `max_length` is provided a specific value, please use `truncation=True` to explicitly truncate examples to max length. Defaulting to 'longest_first' truncation strategy. If you encode pairs of sequences (GLUE-style) with the tokenizer you can select this strategy more precisely by providing a specific strategy to `truncation`.\n",
            "Validating: 100%|██████████| 63/63 [00:06<00:00,  9.19it/s]\n"
          ]
        },
        {
          "name": "stdout",
          "output_type": "stream",
          "text": [
            "y_test - [0, 0, 0, 0, 0, 0, 0, 0, 1, 1, 1, 1, 1, 1, 1, 1, 1, 1, 1, 1, 2, 2, 2, 2, 2, 2, 2, 2, 2, 2, 2, 2, 2, 2, 3, 3, 3, 3, 3, 3, 3, 3, 3, 3, 3, 3, 3, 3, 4, 4, 4, 4, 4, 4, 4, 4, 4, 4, 4, 4, 4, 4, 5, 5, 5, 5, 5, 5, 5, 5, 5, 5, 6, 6, 7, 7, 7, 7, 8, 8, 8, 8, 8, 9, 9, 9, 9, 9, 9, 9, 9, 9, 10, 10, 10, 10, 10, 10, 10, 10]\n",
            "choice_data - [4, 3, 4, 3, 0, 8, 3, 4, 1, 1, 1, 4, 1, 1, 1, 2, 1, 1, 1, 2, 2, 2, 4, 2, 2, 2, 2, 2, 2, 2, 2, 2, 2, 2, 3, 3, 3, 3, 3, 3, 3, 3, 3, 3, 3, 3, 3, 3, 4, 9, 4, 4, 4, 4, 4, 4, 4, 4, 4, 4, 4, 4, 5, 4, 4, 4, 4, 4, 4, 4, 4, 5, 4, 7, 7, 7, 7, 7, 8, 8, 8, 8, 8, 9, 9, 9, 9, 9, 9, 9, 9, 9, 10, 10, 10, 10, 10, 10, 10, 10]\n",
            "Validation acc = 0.78; F1 = 0.7409908549605061\n",
            "              precision    recall  f1-score   support\n",
            "\n",
            "           0       1.00      0.12      0.22         8\n",
            "           1       1.00      0.75      0.86        12\n",
            "           2       0.87      0.93      0.90        14\n",
            "           3       0.82      1.00      0.90        14\n",
            "           4       0.48      0.93      0.63        14\n",
            "           5       1.00      0.20      0.33        10\n",
            "           6       0.00      0.00      0.00         2\n",
            "           7       0.80      1.00      0.89         4\n",
            "           8       0.83      1.00      0.91         5\n",
            "           9       0.90      1.00      0.95         9\n",
            "          10       1.00      1.00      1.00         8\n",
            "\n",
            "    accuracy                           0.78       100\n",
            "   macro avg       0.79      0.72      0.69       100\n",
            "weighted avg       0.84      0.78      0.74       100\n",
            "\n",
            "[[ 1  0  0  3  3  0  0  0  1  0  0]\n",
            " [ 0  9  2  0  1  0  0  0  0  0  0]\n",
            " [ 0  0 13  0  1  0  0  0  0  0  0]\n",
            " [ 0  0  0 14  0  0  0  0  0  0  0]\n",
            " [ 0  0  0  0 13  0  0  0  0  1  0]\n",
            " [ 0  0  0  0  8  2  0  0  0  0  0]\n",
            " [ 0  0  0  0  1  0  0  1  0  0  0]\n",
            " [ 0  0  0  0  0  0  0  4  0  0  0]\n",
            " [ 0  0  0  0  0  0  0  0  5  0  0]\n",
            " [ 0  0  0  0  0  0  0  0  0  9  0]\n",
            " [ 0  0  0  0  0  0  0  0  0  0  8]]\n",
            "Axes(0.125,0.11;0.62x0.77)\n"
          ]
        },
        {
          "data": {
            "image/png": "[encoded data removed]",
            "text/plain": [
              "<Figure size 640x480 with 2 Axes>"
            ]
          },
          "metadata": {},
          "output_type": "display_data"
        },
        {
          "name": "stdout",
          "output_type": "stream",
          "text": [
            "=> Saving checkpoint at epoch 0\n"
          ]
        },
        {
          "name": "stderr",
          "output_type": "stream",
          "text": []
        },
        {
          "name": "stdout",
          "output_type": "stream",
          "text": [
            "\n",
            "====================================\n",
            "Epoch = 1\n",
            "====================================\n",
            "\n"
          ]
        },
        {
          "name": "stderr",
          "output_type": "stream",
          "text": [
            "Training loss: 3.95e-01; lr: 6.00e-06: 100%|██████████| 230/230 [01:26<00:00,  2.67it/s]\n",
            "Validating: 100%|██████████| 63/63 [00:06<00:00,  9.37it/s]\n"
          ]
        },
        {
          "name": "stdout",
          "output_type": "stream",
          "text": [
            "y_test - [0, 0, 0, 0, 0, 0, 0, 0, 1, 1, 1, 1, 1, 1, 1, 1, 1, 1, 1, 1, 2, 2, 2, 2, 2, 2, 2, 2, 2, 2, 2, 2, 2, 2, 3, 3, 3, 3, 3, 3, 3, 3, 3, 3, 3, 3, 3, 3, 4, 4, 4, 4, 4, 4, 4, 4, 4, 4, 4, 4, 4, 4, 5, 5, 5, 5, 5, 5, 5, 5, 5, 5, 6, 6, 7, 7, 7, 7, 8, 8, 8, 8, 8, 9, 9, 9, 9, 9, 9, 9, 9, 9, 10, 10, 10, 10, 10, 10, 10, 10]\n",
            "choice_data - [0, 0, 0, 3, 0, 8, 0, 0, 1, 1, 1, 1, 1, 1, 1, 1, 1, 1, 1, 1, 2, 2, 2, 2, 2, 2, 2, 2, 2, 2, 2, 2, 2, 2, 3, 3, 3, 3, 3, 3, 3, 3, 3, 3, 3, 3, 3, 3, 4, 9, 4, 4, 4, 4, 4, 4, 4, 4, 4, 4, 4, 4, 5, 5, 5, 5, 5, 5, 5, 5, 5, 5, 5, 7, 7, 7, 7, 7, 8, 8, 8, 8, 8, 9, 9, 9, 9, 9, 9, 9, 9, 9, 10, 10, 10, 10, 10, 10, 10, 10]\n",
            "Validation acc = 0.95; F1 = 0.94007001132228\n",
            "              precision    recall  f1-score   support\n",
            "\n",
            "           0       1.00      0.75      0.86         8\n",
            "           1       1.00      1.00      1.00        12\n",
            "           2       1.00      1.00      1.00        14\n",
            "           3       0.93      1.00      0.97        14\n",
            "           4       1.00      0.93      0.96        14\n",
            "           5       0.91      1.00      0.95        10\n",
            "           6       0.00      0.00      0.00         2\n",
            "           7       0.80      1.00      0.89         4\n",
            "           8       0.83      1.00      0.91         5\n",
            "           9       0.90      1.00      0.95         9\n",
            "          10       1.00      1.00      1.00         8\n",
            "\n",
            "    accuracy                           0.95       100\n",
            "   macro avg       0.85      0.88      0.86       100\n",
            "weighted avg       0.94      0.95      0.94       100\n",
            "\n",
            "[[ 6  0  0  1  0  0  0  0  1  0  0]\n",
            " [ 0 12  0  0  0  0  0  0  0  0  0]\n",
            " [ 0  0 14  0  0  0  0  0  0  0  0]\n",
            " [ 0  0  0 14  0  0  0  0  0  0  0]\n",
            " [ 0  0  0  0 13  0  0  0  0  1  0]\n",
            " [ 0  0  0  0  0 10  0  0  0  0  0]\n",
            " [ 0  0  0  0  0  1  0  1  0  0  0]\n",
            " [ 0  0  0  0  0  0  0  4  0  0  0]\n",
            " [ 0  0  0  0  0  0  0  0  5  0  0]\n",
            " [ 0  0  0  0  0  0  0  0  0  9  0]\n",
            " [ 0  0  0  0  0  0  0  0  0  0  8]]\n",
            "Axes(0.125,0.11;0.62x0.77)\n"
          ]
        },
        {
          "data": {
            "image/png": "[encoded data removed]",
            "text/plain": [
              "<Figure size 640x480 with 2 Axes>"
            ]
          },
          "metadata": {},
          "output_type": "display_data"
        },
        {
          "name": "stdout",
          "output_type": "stream",
          "text": [
            "=> Saving checkpoint at epoch 1\n"
          ]
        },
        {
          "name": "stderr",
          "output_type": "stream",
          "text": []
        },
        {
          "name": "stdout",
          "output_type": "stream",
          "text": [
            "\n",
            "====================================\n",
            "Epoch = 2\n",
            "====================================\n",
            "\n"
          ]
        },
        {
          "name": "stderr",
          "output_type": "stream",
          "text": [
            "Training loss: 1.99e-01; lr: 4.00e-06: 100%|██████████| 230/230 [01:25<00:00,  2.70it/s]\n",
            "Validating: 100%|██████████| 63/63 [00:06<00:00,  9.14it/s]\n"
          ]
        },
        {
          "name": "stdout",
          "output_type": "stream",
          "text": [
            "y_test - [0, 0, 0, 0, 0, 0, 0, 0, 1, 1, 1, 1, 1, 1, 1, 1, 1, 1, 1, 1, 2, 2, 2, 2, 2, 2, 2, 2, 2, 2, 2, 2, 2, 2, 3, 3, 3, 3, 3, 3, 3, 3, 3, 3, 3, 3, 3, 3, 4, 4, 4, 4, 4, 4, 4, 4, 4, 4, 4, 4, 4, 4, 5, 5, 5, 5, 5, 5, 5, 5, 5, 5, 6, 6, 7, 7, 7, 7, 8, 8, 8, 8, 8, 9, 9, 9, 9, 9, 9, 9, 9, 9, 10, 10, 10, 10, 10, 10, 10, 10]\n",
            "choice_data - [0, 0, 0, 0, 0, 0, 0, 0, 1, 1, 1, 1, 1, 1, 1, 1, 1, 1, 1, 1, 2, 2, 2, 2, 2, 2, 2, 2, 2, 2, 2, 2, 2, 2, 3, 3, 3, 3, 3, 3, 3, 3, 3, 3, 3, 3, 3, 3, 4, 4, 4, 4, 4, 4, 4, 4, 4, 4, 4, 4, 4, 4, 5, 5, 5, 5, 5, 5, 5, 5, 5, 5, 5, 6, 7, 7, 7, 7, 8, 8, 8, 8, 8, 9, 9, 9, 9, 9, 9, 9, 9, 9, 10, 10, 10, 10, 10, 10, 10, 10]\n",
            "Validation acc = 0.99; F1 = 0.9885714285714287\n",
            "              precision    recall  f1-score   support\n",
            "\n",
            "           0       1.00      1.00      1.00         8\n",
            "           1       1.00      1.00      1.00        12\n",
            "           2       1.00      1.00      1.00        14\n",
            "           3       1.00      1.00      1.00        14\n",
            "           4       1.00      1.00      1.00        14\n",
            "           5       0.91      1.00      0.95        10\n",
            "           6       1.00      0.50      0.67         2\n",
            "           7       1.00      1.00      1.00         4\n",
            "           8       1.00      1.00      1.00         5\n",
            "           9       1.00      1.00      1.00         9\n",
            "          10       1.00      1.00      1.00         8\n",
            "\n",
            "    accuracy                           0.99       100\n",
            "   macro avg       0.99      0.95      0.97       100\n",
            "weighted avg       0.99      0.99      0.99       100\n",
            "\n",
            "[[ 8  0  0  0  0  0  0  0  0  0  0]\n",
            " [ 0 12  0  0  0  0  0  0  0  0  0]\n",
            " [ 0  0 14  0  0  0  0  0  0  0  0]\n",
            " [ 0  0  0 14  0  0  0  0  0  0  0]\n",
            " [ 0  0  0  0 14  0  0  0  0  0  0]\n",
            " [ 0  0  0  0  0 10  0  0  0  0  0]\n",
            " [ 0  0  0  0  0  1  1  0  0  0  0]\n",
            " [ 0  0  0  0  0  0  0  4  0  0  0]\n",
            " [ 0  0  0  0  0  0  0  0  5  0  0]\n",
            " [ 0  0  0  0  0  0  0  0  0  9  0]\n",
            " [ 0  0  0  0  0  0  0  0  0  0  8]]\n",
            "Axes(0.125,0.11;0.62x0.77)\n"
          ]
        },
        {
          "data": {
            "image/png": "[encoded data removed]",
            "text/plain": [
              "<Figure size 640x480 with 2 Axes>"
            ]
          },
          "metadata": {},
          "output_type": "display_data"
        },
        {
          "name": "stdout",
          "output_type": "stream",
          "text": [
            "=> Saving checkpoint at epoch 2\n"
          ]
        },
        {
          "name": "stderr",
          "output_type": "stream",
          "text": []
        },
        {
          "name": "stdout",
          "output_type": "stream",
          "text": [
            "\n",
            "====================================\n",
            "Epoch = 3\n",
            "====================================\n",
            "\n"
          ]
        },
        {
          "name": "stderr",
          "output_type": "stream",
          "text": [
            "Training loss: 2.58e-01; lr: 2.00e-06: 100%|██████████| 230/230 [01:25<00:00,  2.70it/s]\n",
            "Validating: 100%|██████████| 63/63 [00:06<00:00,  9.27it/s]\n"
          ]
        },
        {
          "name": "stdout",
          "output_type": "stream",
          "text": [
            "y_test - [0, 0, 0, 0, 0, 0, 0, 0, 1, 1, 1, 1, 1, 1, 1, 1, 1, 1, 1, 1, 2, 2, 2, 2, 2, 2, 2, 2, 2, 2, 2, 2, 2, 2, 3, 3, 3, 3, 3, 3, 3, 3, 3, 3, 3, 3, 3, 3, 4, 4, 4, 4, 4, 4, 4, 4, 4, 4, 4, 4, 4, 4, 5, 5, 5, 5, 5, 5, 5, 5, 5, 5, 6, 6, 7, 7, 7, 7, 8, 8, 8, 8, 8, 9, 9, 9, 9, 9, 9, 9, 9, 9, 10, 10, 10, 10, 10, 10, 10, 10]\n",
            "choice_data - [0, 0, 0, 0, 0, 8, 0, 0, 1, 1, 1, 1, 1, 1, 1, 1, 1, 1, 1, 1, 2, 2, 2, 2, 2, 2, 2, 2, 2, 2, 2, 2, 2, 2, 3, 3, 3, 3, 3, 3, 3, 3, 3, 3, 3, 3, 3, 3, 4, 4, 4, 4, 4, 4, 4, 4, 4, 4, 4, 4, 4, 4, 5, 5, 5, 5, 5, 5, 5, 5, 5, 5, 5, 6, 7, 7, 7, 7, 8, 8, 8, 8, 8, 9, 9, 9, 9, 9, 9, 9, 9, 9, 10, 10, 10, 10, 10, 10, 10, 10]\n",
            "Validation acc = 0.98; F1 = 0.9786926406926407\n",
            "\n",
            "====================================\n",
            "Epoch = 4\n",
            "====================================\n",
            "\n"
          ]
        },
        {
          "name": "stderr",
          "output_type": "stream",
          "text": [
            "Training loss: 1.16e-01; lr: 0.00e+00: 100%|██████████| 230/230 [01:27<00:00,  2.64it/s]\n",
            "Validating: 100%|██████████| 63/63 [00:06<00:00,  9.17it/s]\n",
            "100%|██████████| 5/5 [07:48<00:00, 93.73s/it]\n",
            "4it [31:25, 472.32s/it]"
          ]
        },
        {
          "name": "stdout",
          "output_type": "stream",
          "text": [
            "y_test - [0, 0, 0, 0, 0, 0, 0, 0, 1, 1, 1, 1, 1, 1, 1, 1, 1, 1, 1, 1, 2, 2, 2, 2, 2, 2, 2, 2, 2, 2, 2, 2, 2, 2, 3, 3, 3, 3, 3, 3, 3, 3, 3, 3, 3, 3, 3, 3, 4, 4, 4, 4, 4, 4, 4, 4, 4, 4, 4, 4, 4, 4, 5, 5, 5, 5, 5, 5, 5, 5, 5, 5, 6, 6, 7, 7, 7, 7, 8, 8, 8, 8, 8, 9, 9, 9, 9, 9, 9, 9, 9, 9, 10, 10, 10, 10, 10, 10, 10, 10]\n",
            "choice_data - [0, 0, 0, 0, 0, 0, 0, 0, 1, 1, 1, 1, 1, 1, 1, 1, 1, 1, 1, 1, 2, 2, 2, 2, 2, 2, 2, 2, 2, 2, 2, 2, 2, 2, 3, 3, 3, 3, 3, 3, 3, 3, 3, 3, 3, 3, 3, 3, 4, 4, 4, 4, 4, 4, 4, 4, 4, 4, 4, 4, 4, 4, 5, 5, 5, 5, 5, 5, 5, 5, 5, 5, 5, 6, 7, 7, 7, 7, 8, 8, 8, 8, 8, 9, 9, 9, 9, 9, 9, 9, 9, 9, 10, 10, 10, 10, 10, 10, 10, 10]\n",
            "Validation acc = 0.99; F1 = 0.9885714285714287\n",
            "\n",
            "====================================\n",
            "Fold 4:\n",
            "====================================\n",
            "\n",
            "  Train: сэмплов - 401\n",
            "\n",
            "  Test:  сэмплов - 100\n",
            "\n"
          ]
        },
        {
          "name": "stderr",
          "output_type": "stream",
          "text": [
            "Some weights of the model checkpoint at DeepPavlov/rubert-base-cased were not used when initializing BertModel: ['cls.predictions.bias', 'cls.predictions.decoder.bias', 'cls.predictions.decoder.weight', 'cls.predictions.transform.LayerNorm.bias', 'cls.predictions.transform.LayerNorm.weight', 'cls.predictions.transform.dense.bias', 'cls.predictions.transform.dense.weight', 'cls.seq_relationship.bias', 'cls.seq_relationship.weight']\n",
            "- This IS expected if you are initializing BertModel from the checkpoint of a model trained on another task or with another architecture (e.g. initializing a BertForSequenceClassification model from a BertForPreTraining model).\n",
            "- This IS NOT expected if you are initializing BertModel from the checkpoint of a model that you expect to be exactly identical (initializing a BertForSequenceClassification model from a BertForSequenceClassification model).\n"
          ]
        },
        {
          "name": "stdout",
          "output_type": "stream",
          "text": [
            "\n",
            "====================================\n",
            "Epoch = 0\n",
            "====================================\n",
            "\n"
          ]
        },
        {
          "name": "stderr",
          "output_type": "stream",
          "text": [
            "Training:   0%|          | 0/237 [00:00<?, ?it/s]Truncation was not explicitly activated but `max_length` is provided a specific value, please use `truncation=True` to explicitly truncate examples to max length. Defaulting to 'longest_first' truncation strategy. If you encode pairs of sequences (GLUE-style) with the tokenizer you can select this strategy more precisely by providing a specific strategy to `truncation`.\n",
            "Training loss: 8.14e-01; lr: 8.00e-06: 100%|██████████| 237/237 [01:27<00:00,  2.70it/s]\n",
            "Validating:   0%|          | 0/56 [00:00<?, ?it/s]Truncation was not explicitly activated but `max_length` is provided a specific value, please use `truncation=True` to explicitly truncate examples to max length. Defaulting to 'longest_first' truncation strategy. If you encode pairs of sequences (GLUE-style) with the tokenizer you can select this strategy more precisely by providing a specific strategy to `truncation`.\n",
            "Validating: 100%|██████████| 56/56 [00:05<00:00,  9.44it/s]\n"
          ]
        },
        {
          "name": "stdout",
          "output_type": "stream",
          "text": [
            "y_test - [0, 0, 0, 0, 0, 0, 0, 0, 1, 1, 1, 1, 1, 1, 1, 1, 1, 1, 1, 1, 2, 2, 2, 2, 2, 2, 2, 2, 2, 2, 2, 2, 2, 2, 3, 3, 3, 3, 3, 3, 3, 3, 3, 3, 3, 3, 3, 3, 4, 4, 4, 4, 4, 4, 4, 4, 4, 4, 4, 4, 4, 4, 5, 5, 5, 5, 5, 5, 5, 5, 5, 5, 6, 6, 7, 7, 7, 7, 8, 8, 8, 8, 8, 9, 9, 9, 9, 9, 9, 9, 9, 9, 10, 10, 10, 10, 10, 10, 10, 10]\n",
            "choice_data - [8, 0, 0, 10, 8, 0, 3, 0, 4, 1, 1, 1, 1, 1, 1, 1, 2, 2, 2, 2, 2, 7, 2, 2, 4, 2, 2, 9, 2, 2, 2, 2, 2, 2, 3, 3, 3, 3, 3, 3, 3, 3, 3, 3, 3, 3, 3, 3, 4, 10, 9, 10, 7, 4, 4, 4, 10, 4, 7, 4, 4, 4, 4, 4, 5, 10, 4, 4, 5, 4, 4, 4, 4, 7, 7, 7, 7, 7, 8, 8, 8, 8, 8, 9, 9, 9, 9, 9, 9, 10, 9, 9, 10, 10, 10, 10, 10, 10, 10, 10]\n",
            "Validation acc = 0.71; F1 = 0.6887716548424352\n",
            "              precision    recall  f1-score   support\n",
            "\n",
            "           0       1.00      0.50      0.67         8\n",
            "           1       1.00      0.58      0.74        12\n",
            "           2       0.73      0.79      0.76        14\n",
            "           3       0.93      1.00      0.97        14\n",
            "           4       0.44      0.57      0.50        14\n",
            "           5       1.00      0.20      0.33        10\n",
            "           6       0.00      0.00      0.00         2\n",
            "           7       0.50      1.00      0.67         4\n",
            "           8       0.71      1.00      0.83         5\n",
            "           9       0.80      0.89      0.84         9\n",
            "          10       0.57      1.00      0.73         8\n",
            "\n",
            "    accuracy                           0.71       100\n",
            "   macro avg       0.70      0.68      0.64       100\n",
            "weighted avg       0.77      0.71      0.69       100\n",
            "\n",
            "[[ 4  0  0  1  0  0  0  0  2  0  1]\n",
            " [ 0  7  4  0  1  0  0  0  0  0  0]\n",
            " [ 0  0 11  0  1  0  0  1  0  1  0]\n",
            " [ 0  0  0 14  0  0  0  0  0  0  0]\n",
            " [ 0  0  0  0  8  0  0  2  0  1  3]\n",
            " [ 0  0  0  0  7  2  0  0  0  0  1]\n",
            " [ 0  0  0  0  1  0  0  1  0  0  0]\n",
            " [ 0  0  0  0  0  0  0  4  0  0  0]\n",
            " [ 0  0  0  0  0  0  0  0  5  0  0]\n",
            " [ 0  0  0  0  0  0  0  0  0  8  1]\n",
            " [ 0  0  0  0  0  0  0  0  0  0  8]]\n",
            "Axes(0.125,0.11;0.62x0.77)\n"
          ]
        },
        {
          "data": {
            "image/png": "[encoded data removed]",
            "text/plain": [
              "<Figure size 640x480 with 2 Axes>"
            ]
          },
          "metadata": {},
          "output_type": "display_data"
        },
        {
          "name": "stdout",
          "output_type": "stream",
          "text": [
            "=> Saving checkpoint at epoch 0\n"
          ]
        },
        {
          "name": "stderr",
          "output_type": "stream",
          "text": []
        },
        {
          "name": "stdout",
          "output_type": "stream",
          "text": [
            "\n",
            "====================================\n",
            "Epoch = 1\n",
            "====================================\n",
            "\n"
          ]
        },
        {
          "name": "stderr",
          "output_type": "stream",
          "text": [
            "Training loss: 2.63e-01; lr: 6.00e-06: 100%|██████████| 237/237 [01:27<00:00,  2.71it/s]\n",
            "Validating: 100%|██████████| 56/56 [00:05<00:00,  9.69it/s]\n"
          ]
        },
        {
          "name": "stdout",
          "output_type": "stream",
          "text": [
            "y_test - [0, 0, 0, 0, 0, 0, 0, 0, 1, 1, 1, 1, 1, 1, 1, 1, 1, 1, 1, 1, 2, 2, 2, 2, 2, 2, 2, 2, 2, 2, 2, 2, 2, 2, 3, 3, 3, 3, 3, 3, 3, 3, 3, 3, 3, 3, 3, 3, 4, 4, 4, 4, 4, 4, 4, 4, 4, 4, 4, 4, 4, 4, 5, 5, 5, 5, 5, 5, 5, 5, 5, 5, 6, 6, 7, 7, 7, 7, 8, 8, 8, 8, 8, 9, 9, 9, 9, 9, 9, 9, 9, 9, 10, 10, 10, 10, 10, 10, 10, 10]\n",
            "choice_data - [0, 4, 0, 0, 0, 0, 0, 0, 1, 1, 1, 1, 1, 1, 1, 1, 1, 1, 1, 1, 2, 2, 2, 2, 2, 2, 2, 2, 2, 2, 2, 2, 2, 2, 3, 3, 3, 3, 3, 3, 3, 3, 3, 3, 3, 3, 3, 3, 4, 10, 4, 10, 4, 4, 4, 4, 4, 4, 4, 4, 4, 4, 5, 5, 5, 10, 5, 0, 5, 5, 5, 5, 4, 7, 7, 7, 7, 7, 8, 8, 8, 8, 8, 9, 9, 9, 9, 9, 9, 10, 9, 9, 10, 10, 10, 10, 10, 10, 10, 10]\n",
            "Validation acc = 0.92; F1 = 0.9131503267973856\n",
            "              precision    recall  f1-score   support\n",
            "\n",
            "           0       0.88      0.88      0.88         8\n",
            "           1       1.00      1.00      1.00        12\n",
            "           2       1.00      1.00      1.00        14\n",
            "           3       1.00      1.00      1.00        14\n",
            "           4       0.86      0.86      0.86        14\n",
            "           5       1.00      0.80      0.89        10\n",
            "           6       0.00      0.00      0.00         2\n",
            "           7       0.80      1.00      0.89         4\n",
            "           8       1.00      1.00      1.00         5\n",
            "           9       1.00      0.89      0.94         9\n",
            "          10       0.67      1.00      0.80         8\n",
            "\n",
            "    accuracy                           0.92       100\n",
            "   macro avg       0.84      0.86      0.84       100\n",
            "weighted avg       0.92      0.92      0.91       100\n",
            "\n",
            "[[ 7  0  0  0  1  0  0  0  0  0  0]\n",
            " [ 0 12  0  0  0  0  0  0  0  0  0]\n",
            " [ 0  0 14  0  0  0  0  0  0  0  0]\n",
            " [ 0  0  0 14  0  0  0  0  0  0  0]\n",
            " [ 0  0  0  0 12  0  0  0  0  0  2]\n",
            " [ 1  0  0  0  0  8  0  0  0  0  1]\n",
            " [ 0  0  0  0  1  0  0  1  0  0  0]\n",
            " [ 0  0  0  0  0  0  0  4  0  0  0]\n",
            " [ 0  0  0  0  0  0  0  0  5  0  0]\n",
            " [ 0  0  0  0  0  0  0  0  0  8  1]\n",
            " [ 0  0  0  0  0  0  0  0  0  0  8]]\n",
            "Axes(0.125,0.11;0.62x0.77)\n"
          ]
        },
        {
          "data": {
            "image/png": "[encoded data removed]",
            "text/plain": [
              "<Figure size 640x480 with 2 Axes>"
            ]
          },
          "metadata": {},
          "output_type": "display_data"
        },
        {
          "name": "stdout",
          "output_type": "stream",
          "text": [
            "=> Saving checkpoint at epoch 1\n"
          ]
        },
        {
          "name": "stderr",
          "output_type": "stream",
          "text": []
        },
        {
          "name": "stdout",
          "output_type": "stream",
          "text": [
            "\n",
            "====================================\n",
            "Epoch = 2\n",
            "====================================\n",
            "\n"
          ]
        },
        {
          "name": "stderr",
          "output_type": "stream",
          "text": [
            "Training loss: 4.81e-01; lr: 4.00e-06: 100%|██████████| 237/237 [01:26<00:00,  2.74it/s]\n",
            "Validating: 100%|██████████| 56/56 [00:05<00:00,  9.40it/s]\n"
          ]
        },
        {
          "name": "stdout",
          "output_type": "stream",
          "text": [
            "y_test - [0, 0, 0, 0, 0, 0, 0, 0, 1, 1, 1, 1, 1, 1, 1, 1, 1, 1, 1, 1, 2, 2, 2, 2, 2, 2, 2, 2, 2, 2, 2, 2, 2, 2, 3, 3, 3, 3, 3, 3, 3, 3, 3, 3, 3, 3, 3, 3, 4, 4, 4, 4, 4, 4, 4, 4, 4, 4, 4, 4, 4, 4, 5, 5, 5, 5, 5, 5, 5, 5, 5, 5, 6, 6, 7, 7, 7, 7, 8, 8, 8, 8, 8, 9, 9, 9, 9, 9, 9, 9, 9, 9, 10, 10, 10, 10, 10, 10, 10, 10]\n",
            "choice_data - [0, 0, 0, 0, 0, 0, 0, 0, 1, 1, 1, 1, 1, 1, 1, 1, 1, 1, 1, 1, 2, 2, 2, 2, 2, 2, 2, 2, 2, 2, 2, 2, 2, 2, 3, 3, 3, 3, 3, 3, 3, 3, 3, 3, 3, 3, 3, 3, 4, 4, 4, 4, 7, 4, 4, 4, 4, 4, 4, 4, 4, 4, 5, 5, 5, 10, 5, 0, 5, 5, 5, 5, 5, 7, 7, 7, 7, 7, 8, 8, 8, 8, 8, 9, 9, 9, 9, 9, 9, 10, 9, 9, 10, 10, 10, 10, 10, 10, 10, 10]\n",
            "Validation acc = 0.94; F1 = 0.9321364522417155\n",
            "              precision    recall  f1-score   support\n",
            "\n",
            "           0       0.89      1.00      0.94         8\n",
            "           1       1.00      1.00      1.00        12\n",
            "           2       1.00      1.00      1.00        14\n",
            "           3       1.00      1.00      1.00        14\n",
            "           4       1.00      0.93      0.96        14\n",
            "           5       0.89      0.80      0.84        10\n",
            "           6       0.00      0.00      0.00         2\n",
            "           7       0.67      1.00      0.80         4\n",
            "           8       1.00      1.00      1.00         5\n",
            "           9       1.00      0.89      0.94         9\n",
            "          10       0.80      1.00      0.89         8\n",
            "\n",
            "    accuracy                           0.94       100\n",
            "   macro avg       0.84      0.87      0.85       100\n",
            "weighted avg       0.93      0.94      0.93       100\n",
            "\n",
            "[[ 8  0  0  0  0  0  0  0  0  0  0]\n",
            " [ 0 12  0  0  0  0  0  0  0  0  0]\n",
            " [ 0  0 14  0  0  0  0  0  0  0  0]\n",
            " [ 0  0  0 14  0  0  0  0  0  0  0]\n",
            " [ 0  0  0  0 13  0  0  1  0  0  0]\n",
            " [ 1  0  0  0  0  8  0  0  0  0  1]\n",
            " [ 0  0  0  0  0  1  0  1  0  0  0]\n",
            " [ 0  0  0  0  0  0  0  4  0  0  0]\n",
            " [ 0  0  0  0  0  0  0  0  5  0  0]\n",
            " [ 0  0  0  0  0  0  0  0  0  8  1]\n",
            " [ 0  0  0  0  0  0  0  0  0  0  8]]\n",
            "Axes(0.125,0.11;0.62x0.77)\n"
          ]
        },
        {
          "data": {
            "image/png": "[encoded data removed]",
            "text/plain": [
              "<Figure size 640x480 with 2 Axes>"
            ]
          },
          "metadata": {},
          "output_type": "display_data"
        },
        {
          "name": "stdout",
          "output_type": "stream",
          "text": [
            "=> Saving checkpoint at epoch 2\n"
          ]
        },
        {
          "name": "stderr",
          "output_type": "stream",
          "text": []
        },
        {
          "name": "stdout",
          "output_type": "stream",
          "text": [
            "\n",
            "====================================\n",
            "Epoch = 3\n",
            "====================================\n",
            "\n"
          ]
        },
        {
          "name": "stderr",
          "output_type": "stream",
          "text": [
            "Training loss: 6.72e-02; lr: 2.00e-06: 100%|██████████| 237/237 [01:27<00:00,  2.69it/s]\n",
            "Validating: 100%|██████████| 56/56 [00:05<00:00,  9.50it/s]\n"
          ]
        },
        {
          "name": "stdout",
          "output_type": "stream",
          "text": [
            "y_test - [0, 0, 0, 0, 0, 0, 0, 0, 1, 1, 1, 1, 1, 1, 1, 1, 1, 1, 1, 1, 2, 2, 2, 2, 2, 2, 2, 2, 2, 2, 2, 2, 2, 2, 3, 3, 3, 3, 3, 3, 3, 3, 3, 3, 3, 3, 3, 3, 4, 4, 4, 4, 4, 4, 4, 4, 4, 4, 4, 4, 4, 4, 5, 5, 5, 5, 5, 5, 5, 5, 5, 5, 6, 6, 7, 7, 7, 7, 8, 8, 8, 8, 8, 9, 9, 9, 9, 9, 9, 9, 9, 9, 10, 10, 10, 10, 10, 10, 10, 10]\n",
            "choice_data - [0, 0, 0, 0, 0, 0, 0, 0, 1, 1, 1, 1, 1, 1, 1, 1, 1, 1, 1, 1, 2, 2, 2, 2, 2, 2, 2, 2, 2, 5, 2, 2, 2, 2, 3, 3, 3, 3, 3, 3, 3, 3, 3, 3, 3, 3, 3, 3, 4, 4, 4, 4, 7, 4, 4, 4, 4, 4, 4, 4, 4, 4, 5, 5, 5, 10, 5, 0, 5, 5, 5, 5, 5, 6, 7, 7, 7, 7, 8, 8, 8, 8, 8, 9, 9, 9, 9, 9, 9, 10, 4, 9, 10, 10, 10, 10, 10, 10, 10, 10]\n",
            "Validation acc = 0.93; F1 = 0.9288589324618737\n",
            "\n",
            "====================================\n",
            "Epoch = 4\n",
            "====================================\n",
            "\n"
          ]
        },
        {
          "name": "stderr",
          "output_type": "stream",
          "text": [
            "Training loss: 1.51e-01; lr: 0.00e+00: 100%|██████████| 237/237 [01:28<00:00,  2.69it/s]\n",
            "Validating: 100%|██████████| 56/56 [00:05<00:00,  9.35it/s]\n",
            "100%|██████████| 5/5 [07:50<00:00, 94.06s/it]\n",
            "5it [39:19, 471.92s/it]"
          ]
        },
        {
          "name": "stdout",
          "output_type": "stream",
          "text": [
            "y_test - [0, 0, 0, 0, 0, 0, 0, 0, 1, 1, 1, 1, 1, 1, 1, 1, 1, 1, 1, 1, 2, 2, 2, 2, 2, 2, 2, 2, 2, 2, 2, 2, 2, 2, 3, 3, 3, 3, 3, 3, 3, 3, 3, 3, 3, 3, 3, 3, 4, 4, 4, 4, 4, 4, 4, 4, 4, 4, 4, 4, 4, 4, 5, 5, 5, 5, 5, 5, 5, 5, 5, 5, 6, 6, 7, 7, 7, 7, 8, 8, 8, 8, 8, 9, 9, 9, 9, 9, 9, 9, 9, 9, 10, 10, 10, 10, 10, 10, 10, 10]\n",
            "choice_data - [0, 0, 0, 0, 0, 0, 0, 0, 1, 1, 1, 1, 1, 1, 1, 1, 1, 1, 1, 1, 2, 2, 2, 2, 2, 2, 2, 2, 2, 5, 2, 2, 2, 2, 3, 3, 3, 3, 3, 3, 3, 3, 3, 3, 3, 3, 3, 3, 4, 4, 4, 4, 7, 4, 4, 4, 4, 4, 4, 4, 4, 4, 5, 5, 5, 10, 5, 0, 5, 5, 5, 5, 5, 6, 7, 7, 7, 7, 8, 8, 8, 8, 8, 9, 9, 9, 9, 9, 9, 10, 4, 9, 10, 10, 10, 10, 10, 10, 10, 10]\n",
            "Validation acc = 0.93; F1 = 0.9288589324618737\n"
          ]
        },
        {
          "name": "stderr",
          "output_type": "stream",
          "text": [
            "\n"
          ]
        }
      ],
      "source": [
        "kf = StratifiedKFold (n_splits=5, shuffle = True, random_state=13)\n",
        "kf.get_n_splits(df[[\"text\", \"doc_id\"]], df['label'])\n",
        "\n",
        "# train запускается по количеству настраиваемых эпох на каждом из 5 фолдов\n",
        "# поменять можно в cfg.yaml число num_epochs\n",
        "\n",
        "for i, (train_index, test_index) in tqdm(enumerate(kf.split(df[[\"text\", \"doc_id\"]], df['label']))):\n",
        "    print()\n",
        "    print(\"====================================\")\n",
        "    print(f\"Fold {i}:\")\n",
        "    print(\"====================================\\n\")\n",
        "    print(f\"  Train: сэмплов - {len(train_index)}\\n\")\n",
        "    print(f\"  Test:  сэмплов - {len(test_index)}\\n\")\n",
        "\n",
        "    train_sentences = sentences_create(pd.concat([\n",
        "      df[[\"text\", \"doc_id\"]].iloc[train_index],\n",
        "      df['label'].iloc[train_index]\n",
        "      ], axis=1))\n",
        "    test_sentences = sentences_create(pd.concat([\n",
        "      df[[\"text\", \"doc_id\"]].iloc[test_index],\n",
        "      df['label'].iloc[test_index]\n",
        "      ], axis=1))\n",
        "\n",
        "    train_dataloader, val_dataloader = read_data(cfg)\n",
        "\n",
        "    train_losses = []\n",
        "    val_losses = []\n",
        "    F1_scores = []\n",
        "    accuracy_scores = []\n",
        "\n",
        "    model = BertForSequenceClassification(\n",
        "        pretrained_model_name='DeepPavlov/rubert-base-cased',\n",
        "        num_labels=cfg['model']['num_classes'], # 11\n",
        "        dropout=cfg['model']['dropout'] # 0.2\n",
        "    )\n",
        "\n",
        "    run(model=model,\n",
        "      cfg=cfg,\n",
        "      train_dataloader=train_dataloader,\n",
        "      val_dataloader=val_dataloader,\n",
        "      unlabeled_dataloader=None,\n",
        "      test_sentences=test_sentences,\n",
        "      y_test=df['label'].iloc[test_index].to_list(),\n",
        "      train_losses=train_losses,\n",
        "      val_losses=val_losses,\n",
        "      F1_scores=F1_scores,\n",
        "      accuracy_scores=accuracy_scores,\n",
        "    )\n"
      ]
    },
    {
      "cell_type": "markdown",
      "metadata": {},
      "source": [
        "## Сохраним лучшие веса модели "
      ]
    },
    {
      "cell_type": "code",
      "execution_count": 13,
      "metadata": {
        "id": "LiRG3HEzrpfY"
      },
      "outputs": [],
      "source": [
        "model_save_name = 'Ru-bert-Pavlov-Gusev-fine-tuned.pt'\n",
        "path = F\"{model_save_name}\"\n",
        "torch.save(model.state_dict(), path)\n"
      ]
    },
    {
      "cell_type": "code",
      "execution_count": null,
      "metadata": {},
      "outputs": [],
      "source": []
    },
    {
      "cell_type": "code",
      "execution_count": null,
      "metadata": {},
      "outputs": [],
      "source": []
    },
    {
      "cell_type": "code",
      "execution_count": null,
      "metadata": {},
      "outputs": [],
      "source": []
    }
  ],
  "metadata": {
    "accelerator": "GPU",
    "colab": {
      "provenance": [],
      "toc_visible": true
    },
    "gpuClass": "standard",
    "kernelspec": {
      "display_name": "Python 3",
      "name": "python3"
    },
    "language_info": {
      "codemirror_mode": {
        "name": "ipython",
        "version": 3
      },
      "file_extension": ".py",
      "mimetype": "text/x-python",
      "name": "python",
      "nbconvert_exporter": "python",
      "pygments_lexer": "ipython3",
      "version": "3.11.3"
    },
    "widgets": {
      "application/vnd.jupyter.widget-state+json": {
        "05bea6329b734b6cb9dcd13230828075": {
          "model_module": "@jupyter-widgets/controls",
          "model_module_version": "1.5.0",
          "model_name": "FloatProgressModel",
          "state": {
            "_dom_classes": [],
            "_model_module": "@jupyter-widgets/controls",
            "_model_module_version": "1.5.0",
            "_model_name": "FloatProgressModel",
            "_view_count": null,
            "_view_module": "@jupyter-widgets/controls",
            "_view_module_version": "1.5.0",
            "_view_name": "ProgressView",
            "bar_style": "success",
            "description": "",
            "description_tooltip": null,
            "layout": "IPY_MODEL_5409c8328ccd4224b6a79b5476ee102b",
            "max": 112,
            "min": 0,
            "orientation": "horizontal",
            "style": "IPY_MODEL_42b686d4010d4f22a2b453e80706ebe1",
            "value": 112
          }
        },
        "05ee6b2dba994c4293f70a6f88ee4f70": {
          "model_module": "@jupyter-widgets/controls",
          "model_module_version": "1.5.0",
          "model_name": "DescriptionStyleModel",
          "state": {
            "_model_module": "@jupyter-widgets/controls",
            "_model_module_version": "1.5.0",
            "_model_name": "DescriptionStyleModel",
            "_view_count": null,
            "_view_module": "@jupyter-widgets/base",
            "_view_module_version": "1.2.0",
            "_view_name": "StyleView",
            "description_width": ""
          }
        },
        "07e5668493d74fdb8838a9e3791d99cf": {
          "model_module": "@jupyter-widgets/controls",
          "model_module_version": "1.5.0",
          "model_name": "HTMLModel",
          "state": {
            "_dom_classes": [],
            "_model_module": "@jupyter-widgets/controls",
            "_model_module_version": "1.5.0",
            "_model_name": "HTMLModel",
            "_view_count": null,
            "_view_module": "@jupyter-widgets/controls",
            "_view_module_version": "1.5.0",
            "_view_name": "HTMLView",
            "description": "",
            "description_tooltip": null,
            "layout": "IPY_MODEL_b728618195104933964858964439c93b",
            "placeholder": "​",
            "style": "IPY_MODEL_3468b49823f94b5b97b1ecd58add2a9b",
            "value": " 24.0/24.0 [00:00&lt;00:00, 768B/s]"
          }
        },
        "0a827e1dd39f4d72907adb334c261676": {
          "model_module": "@jupyter-widgets/controls",
          "model_module_version": "1.5.0",
          "model_name": "HTMLModel",
          "state": {
            "_dom_classes": [],
            "_model_module": "@jupyter-widgets/controls",
            "_model_module_version": "1.5.0",
            "_model_name": "HTMLModel",
            "_view_count": null,
            "_view_module": "@jupyter-widgets/controls",
            "_view_module_version": "1.5.0",
            "_view_name": "HTMLView",
            "description": "",
            "description_tooltip": null,
            "layout": "IPY_MODEL_0cf19b5f8425469ab3af1afd7c4105bd",
            "placeholder": "​",
            "style": "IPY_MODEL_a923486d9bb84906b8600ab47db9026b",
            "value": " 642/642 [00:00&lt;00:00, 24.3kB/s]"
          }
        },
        "0cdad02ab87e49cc99c3bd28f38d4591": {
          "model_module": "@jupyter-widgets/base",
          "model_module_version": "1.2.0",
          "model_name": "LayoutModel",
          "state": {
            "_model_module": "@jupyter-widgets/base",
            "_model_module_version": "1.2.0",
            "_model_name": "LayoutModel",
            "_view_count": null,
            "_view_module": "@jupyter-widgets/base",
            "_view_module_version": "1.2.0",
            "_view_name": "LayoutView",
            "align_content": null,
            "align_items": null,
            "align_self": null,
            "border": null,
            "bottom": null,
            "display": null,
            "flex": null,
            "flex_flow": null,
            "grid_area": null,
            "grid_auto_columns": null,
            "grid_auto_flow": null,
            "grid_auto_rows": null,
            "grid_column": null,
            "grid_gap": null,
            "grid_row": null,
            "grid_template_areas": null,
            "grid_template_columns": null,
            "grid_template_rows": null,
            "height": null,
            "justify_content": null,
            "justify_items": null,
            "left": null,
            "margin": null,
            "max_height": null,
            "max_width": null,
            "min_height": null,
            "min_width": null,
            "object_fit": null,
            "object_position": null,
            "order": null,
            "overflow": null,
            "overflow_x": null,
            "overflow_y": null,
            "padding": null,
            "right": null,
            "top": null,
            "visibility": null,
            "width": null
          }
        },
        "0cf19b5f8425469ab3af1afd7c4105bd": {
          "model_module": "@jupyter-widgets/base",
          "model_module_version": "1.2.0",
          "model_name": "LayoutModel",
          "state": {
            "_model_module": "@jupyter-widgets/base",
            "_model_module_version": "1.2.0",
            "_model_name": "LayoutModel",
            "_view_count": null,
            "_view_module": "@jupyter-widgets/base",
            "_view_module_version": "1.2.0",
            "_view_name": "LayoutView",
            "align_content": null,
            "align_items": null,
            "align_self": null,
            "border": null,
            "bottom": null,
            "display": null,
            "flex": null,
            "flex_flow": null,
            "grid_area": null,
            "grid_auto_columns": null,
            "grid_auto_flow": null,
            "grid_auto_rows": null,
            "grid_column": null,
            "grid_gap": null,
            "grid_row": null,
            "grid_template_areas": null,
            "grid_template_columns": null,
            "grid_template_rows": null,
            "height": null,
            "justify_content": null,
            "justify_items": null,
            "left": null,
            "margin": null,
            "max_height": null,
            "max_width": null,
            "min_height": null,
            "min_width": null,
            "object_fit": null,
            "object_position": null,
            "order": null,
            "overflow": null,
            "overflow_x": null,
            "overflow_y": null,
            "padding": null,
            "right": null,
            "top": null,
            "visibility": null,
            "width": null
          }
        },
        "1001e4840581460ba940290d9afa8857": {
          "model_module": "@jupyter-widgets/base",
          "model_module_version": "1.2.0",
          "model_name": "LayoutModel",
          "state": {
            "_model_module": "@jupyter-widgets/base",
            "_model_module_version": "1.2.0",
            "_model_name": "LayoutModel",
            "_view_count": null,
            "_view_module": "@jupyter-widgets/base",
            "_view_module_version": "1.2.0",
            "_view_name": "LayoutView",
            "align_content": null,
            "align_items": null,
            "align_self": null,
            "border": null,
            "bottom": null,
            "display": null,
            "flex": null,
            "flex_flow": null,
            "grid_area": null,
            "grid_auto_columns": null,
            "grid_auto_flow": null,
            "grid_auto_rows": null,
            "grid_column": null,
            "grid_gap": null,
            "grid_row": null,
            "grid_template_areas": null,
            "grid_template_columns": null,
            "grid_template_rows": null,
            "height": null,
            "justify_content": null,
            "justify_items": null,
            "left": null,
            "margin": null,
            "max_height": null,
            "max_width": null,
            "min_height": null,
            "min_width": null,
            "object_fit": null,
            "object_position": null,
            "order": null,
            "overflow": null,
            "overflow_x": null,
            "overflow_y": null,
            "padding": null,
            "right": null,
            "top": null,
            "visibility": null,
            "width": null
          }
        },
        "200c81409066402c9de005f05c83867e": {
          "model_module": "@jupyter-widgets/controls",
          "model_module_version": "1.5.0",
          "model_name": "FloatProgressModel",
          "state": {
            "_dom_classes": [],
            "_model_module": "@jupyter-widgets/controls",
            "_model_module_version": "1.5.0",
            "_model_name": "FloatProgressModel",
            "_view_count": null,
            "_view_module": "@jupyter-widgets/controls",
            "_view_module_version": "1.5.0",
            "_view_name": "ProgressView",
            "bar_style": "success",
            "description": "",
            "description_tooltip": null,
            "layout": "IPY_MODEL_60530aa59c094968923e6156d156467a",
            "max": 24,
            "min": 0,
            "orientation": "horizontal",
            "style": "IPY_MODEL_711ee4f95fd241929207bd54e13dd2bc",
            "value": 24
          }
        },
        "24c3ad20b78146b39990fb127fa8333e": {
          "model_module": "@jupyter-widgets/base",
          "model_module_version": "1.2.0",
          "model_name": "LayoutModel",
          "state": {
            "_model_module": "@jupyter-widgets/base",
            "_model_module_version": "1.2.0",
            "_model_name": "LayoutModel",
            "_view_count": null,
            "_view_module": "@jupyter-widgets/base",
            "_view_module_version": "1.2.0",
            "_view_name": "LayoutView",
            "align_content": null,
            "align_items": null,
            "align_self": null,
            "border": null,
            "bottom": null,
            "display": null,
            "flex": null,
            "flex_flow": null,
            "grid_area": null,
            "grid_auto_columns": null,
            "grid_auto_flow": null,
            "grid_auto_rows": null,
            "grid_column": null,
            "grid_gap": null,
            "grid_row": null,
            "grid_template_areas": null,
            "grid_template_columns": null,
            "grid_template_rows": null,
            "height": null,
            "justify_content": null,
            "justify_items": null,
            "left": null,
            "margin": null,
            "max_height": null,
            "max_width": null,
            "min_height": null,
            "min_width": null,
            "object_fit": null,
            "object_position": null,
            "order": null,
            "overflow": null,
            "overflow_x": null,
            "overflow_y": null,
            "padding": null,
            "right": null,
            "top": null,
            "visibility": null,
            "width": null
          }
        },
        "26e02ade71a64a02be78f26f6bf957f9": {
          "model_module": "@jupyter-widgets/controls",
          "model_module_version": "1.5.0",
          "model_name": "DescriptionStyleModel",
          "state": {
            "_model_module": "@jupyter-widgets/controls",
            "_model_module_version": "1.5.0",
            "_model_name": "DescriptionStyleModel",
            "_view_count": null,
            "_view_module": "@jupyter-widgets/base",
            "_view_module_version": "1.2.0",
            "_view_name": "StyleView",
            "description_width": ""
          }
        },
        "272e1704b5ad4a9a996d46bcbb73023f": {
          "model_module": "@jupyter-widgets/controls",
          "model_module_version": "1.5.0",
          "model_name": "HTMLModel",
          "state": {
            "_dom_classes": [],
            "_model_module": "@jupyter-widgets/controls",
            "_model_module_version": "1.5.0",
            "_model_name": "HTMLModel",
            "_view_count": null,
            "_view_module": "@jupyter-widgets/controls",
            "_view_module_version": "1.5.0",
            "_view_name": "HTMLView",
            "description": "",
            "description_tooltip": null,
            "layout": "IPY_MODEL_370cfb17823d4540a258c0da11c6c44e",
            "placeholder": "​",
            "style": "IPY_MODEL_7a6b892f16d04e699bcc162fab19f44c",
            "value": " 714M/714M [00:10&lt;00:00, 76.4MB/s]"
          }
        },
        "286c77deb86e4ed3a8ad0a1a08ed7b1e": {
          "model_module": "@jupyter-widgets/controls",
          "model_module_version": "1.5.0",
          "model_name": "DescriptionStyleModel",
          "state": {
            "_model_module": "@jupyter-widgets/controls",
            "_model_module_version": "1.5.0",
            "_model_name": "DescriptionStyleModel",
            "_view_count": null,
            "_view_module": "@jupyter-widgets/base",
            "_view_module_version": "1.2.0",
            "_view_name": "StyleView",
            "description_width": ""
          }
        },
        "2b907f9dc47a4466a4f7581e61ede6fc": {
          "model_module": "@jupyter-widgets/controls",
          "model_module_version": "1.5.0",
          "model_name": "HTMLModel",
          "state": {
            "_dom_classes": [],
            "_model_module": "@jupyter-widgets/controls",
            "_model_module_version": "1.5.0",
            "_model_name": "HTMLModel",
            "_view_count": null,
            "_view_module": "@jupyter-widgets/controls",
            "_view_module_version": "1.5.0",
            "_view_name": "HTMLView",
            "description": "",
            "description_tooltip": null,
            "layout": "IPY_MODEL_24c3ad20b78146b39990fb127fa8333e",
            "placeholder": "​",
            "style": "IPY_MODEL_a96b4483e49742bbb53eef75ee18342f",
            "value": " 112/112 [00:00&lt;00:00, 1.90kB/s]"
          }
        },
        "3468b49823f94b5b97b1ecd58add2a9b": {
          "model_module": "@jupyter-widgets/controls",
          "model_module_version": "1.5.0",
          "model_name": "DescriptionStyleModel",
          "state": {
            "_model_module": "@jupyter-widgets/controls",
            "_model_module_version": "1.5.0",
            "_model_name": "DescriptionStyleModel",
            "_view_count": null,
            "_view_module": "@jupyter-widgets/base",
            "_view_module_version": "1.2.0",
            "_view_name": "StyleView",
            "description_width": ""
          }
        },
        "370cfb17823d4540a258c0da11c6c44e": {
          "model_module": "@jupyter-widgets/base",
          "model_module_version": "1.2.0",
          "model_name": "LayoutModel",
          "state": {
            "_model_module": "@jupyter-widgets/base",
            "_model_module_version": "1.2.0",
            "_model_name": "LayoutModel",
            "_view_count": null,
            "_view_module": "@jupyter-widgets/base",
            "_view_module_version": "1.2.0",
            "_view_name": "LayoutView",
            "align_content": null,
            "align_items": null,
            "align_self": null,
            "border": null,
            "bottom": null,
            "display": null,
            "flex": null,
            "flex_flow": null,
            "grid_area": null,
            "grid_auto_columns": null,
            "grid_auto_flow": null,
            "grid_auto_rows": null,
            "grid_column": null,
            "grid_gap": null,
            "grid_row": null,
            "grid_template_areas": null,
            "grid_template_columns": null,
            "grid_template_rows": null,
            "height": null,
            "justify_content": null,
            "justify_items": null,
            "left": null,
            "margin": null,
            "max_height": null,
            "max_width": null,
            "min_height": null,
            "min_width": null,
            "object_fit": null,
            "object_position": null,
            "order": null,
            "overflow": null,
            "overflow_x": null,
            "overflow_y": null,
            "padding": null,
            "right": null,
            "top": null,
            "visibility": null,
            "width": null
          }
        },
        "3d1c97a0bbad40c387d4273642a48147": {
          "model_module": "@jupyter-widgets/base",
          "model_module_version": "1.2.0",
          "model_name": "LayoutModel",
          "state": {
            "_model_module": "@jupyter-widgets/base",
            "_model_module_version": "1.2.0",
            "_model_name": "LayoutModel",
            "_view_count": null,
            "_view_module": "@jupyter-widgets/base",
            "_view_module_version": "1.2.0",
            "_view_name": "LayoutView",
            "align_content": null,
            "align_items": null,
            "align_self": null,
            "border": null,
            "bottom": null,
            "display": null,
            "flex": null,
            "flex_flow": null,
            "grid_area": null,
            "grid_auto_columns": null,
            "grid_auto_flow": null,
            "grid_auto_rows": null,
            "grid_column": null,
            "grid_gap": null,
            "grid_row": null,
            "grid_template_areas": null,
            "grid_template_columns": null,
            "grid_template_rows": null,
            "height": null,
            "justify_content": null,
            "justify_items": null,
            "left": null,
            "margin": null,
            "max_height": null,
            "max_width": null,
            "min_height": null,
            "min_width": null,
            "object_fit": null,
            "object_position": null,
            "order": null,
            "overflow": null,
            "overflow_x": null,
            "overflow_y": null,
            "padding": null,
            "right": null,
            "top": null,
            "visibility": null,
            "width": null
          }
        },
        "3de5ea21caf44807a635087eecc241ea": {
          "model_module": "@jupyter-widgets/base",
          "model_module_version": "1.2.0",
          "model_name": "LayoutModel",
          "state": {
            "_model_module": "@jupyter-widgets/base",
            "_model_module_version": "1.2.0",
            "_model_name": "LayoutModel",
            "_view_count": null,
            "_view_module": "@jupyter-widgets/base",
            "_view_module_version": "1.2.0",
            "_view_name": "LayoutView",
            "align_content": null,
            "align_items": null,
            "align_self": null,
            "border": null,
            "bottom": null,
            "display": null,
            "flex": null,
            "flex_flow": null,
            "grid_area": null,
            "grid_auto_columns": null,
            "grid_auto_flow": null,
            "grid_auto_rows": null,
            "grid_column": null,
            "grid_gap": null,
            "grid_row": null,
            "grid_template_areas": null,
            "grid_template_columns": null,
            "grid_template_rows": null,
            "height": null,
            "justify_content": null,
            "justify_items": null,
            "left": null,
            "margin": null,
            "max_height": null,
            "max_width": null,
            "min_height": null,
            "min_width": null,
            "object_fit": null,
            "object_position": null,
            "order": null,
            "overflow": null,
            "overflow_x": null,
            "overflow_y": null,
            "padding": null,
            "right": null,
            "top": null,
            "visibility": null,
            "width": null
          }
        },
        "42b686d4010d4f22a2b453e80706ebe1": {
          "model_module": "@jupyter-widgets/controls",
          "model_module_version": "1.5.0",
          "model_name": "ProgressStyleModel",
          "state": {
            "_model_module": "@jupyter-widgets/controls",
            "_model_module_version": "1.5.0",
            "_model_name": "ProgressStyleModel",
            "_view_count": null,
            "_view_module": "@jupyter-widgets/base",
            "_view_module_version": "1.2.0",
            "_view_name": "StyleView",
            "bar_color": null,
            "description_width": ""
          }
        },
        "47a6341722424ac2be34dc36344ae79e": {
          "model_module": "@jupyter-widgets/base",
          "model_module_version": "1.2.0",
          "model_name": "LayoutModel",
          "state": {
            "_model_module": "@jupyter-widgets/base",
            "_model_module_version": "1.2.0",
            "_model_name": "LayoutModel",
            "_view_count": null,
            "_view_module": "@jupyter-widgets/base",
            "_view_module_version": "1.2.0",
            "_view_name": "LayoutView",
            "align_content": null,
            "align_items": null,
            "align_self": null,
            "border": null,
            "bottom": null,
            "display": null,
            "flex": null,
            "flex_flow": null,
            "grid_area": null,
            "grid_auto_columns": null,
            "grid_auto_flow": null,
            "grid_auto_rows": null,
            "grid_column": null,
            "grid_gap": null,
            "grid_row": null,
            "grid_template_areas": null,
            "grid_template_columns": null,
            "grid_template_rows": null,
            "height": null,
            "justify_content": null,
            "justify_items": null,
            "left": null,
            "margin": null,
            "max_height": null,
            "max_width": null,
            "min_height": null,
            "min_width": null,
            "object_fit": null,
            "object_position": null,
            "order": null,
            "overflow": null,
            "overflow_x": null,
            "overflow_y": null,
            "padding": null,
            "right": null,
            "top": null,
            "visibility": null,
            "width": null
          }
        },
        "4ca7fdf5ca51477480a2fe2770256722": {
          "model_module": "@jupyter-widgets/controls",
          "model_module_version": "1.5.0",
          "model_name": "FloatProgressModel",
          "state": {
            "_dom_classes": [],
            "_model_module": "@jupyter-widgets/controls",
            "_model_module_version": "1.5.0",
            "_model_name": "FloatProgressModel",
            "_view_count": null,
            "_view_module": "@jupyter-widgets/controls",
            "_view_module_version": "1.5.0",
            "_view_name": "ProgressView",
            "bar_style": "success",
            "description": "",
            "description_tooltip": null,
            "layout": "IPY_MODEL_8217c97bf21b4e7d9469a07f40e58d09",
            "max": 1649718,
            "min": 0,
            "orientation": "horizontal",
            "style": "IPY_MODEL_8081a77daed44be9955bdf46bac3da8f",
            "value": 1649718
          }
        },
        "4fdbf2094fce4bf6a9a5c8fd8c750739": {
          "model_module": "@jupyter-widgets/controls",
          "model_module_version": "1.5.0",
          "model_name": "HBoxModel",
          "state": {
            "_dom_classes": [],
            "_model_module": "@jupyter-widgets/controls",
            "_model_module_version": "1.5.0",
            "_model_name": "HBoxModel",
            "_view_count": null,
            "_view_module": "@jupyter-widgets/controls",
            "_view_module_version": "1.5.0",
            "_view_name": "HBoxView",
            "box_style": "",
            "children": [
              "IPY_MODEL_f1442becb1c14b328513c79800039767",
              "IPY_MODEL_05bea6329b734b6cb9dcd13230828075",
              "IPY_MODEL_2b907f9dc47a4466a4f7581e61ede6fc"
            ],
            "layout": "IPY_MODEL_f118ab0e0eea4cab90a36e74674d0a3a"
          }
        },
        "5284fd23297f432cb318c792806af1f2": {
          "model_module": "@jupyter-widgets/base",
          "model_module_version": "1.2.0",
          "model_name": "LayoutModel",
          "state": {
            "_model_module": "@jupyter-widgets/base",
            "_model_module_version": "1.2.0",
            "_model_name": "LayoutModel",
            "_view_count": null,
            "_view_module": "@jupyter-widgets/base",
            "_view_module_version": "1.2.0",
            "_view_name": "LayoutView",
            "align_content": null,
            "align_items": null,
            "align_self": null,
            "border": null,
            "bottom": null,
            "display": null,
            "flex": null,
            "flex_flow": null,
            "grid_area": null,
            "grid_auto_columns": null,
            "grid_auto_flow": null,
            "grid_auto_rows": null,
            "grid_column": null,
            "grid_gap": null,
            "grid_row": null,
            "grid_template_areas": null,
            "grid_template_columns": null,
            "grid_template_rows": null,
            "height": null,
            "justify_content": null,
            "justify_items": null,
            "left": null,
            "margin": null,
            "max_height": null,
            "max_width": null,
            "min_height": null,
            "min_width": null,
            "object_fit": null,
            "object_position": null,
            "order": null,
            "overflow": null,
            "overflow_x": null,
            "overflow_y": null,
            "padding": null,
            "right": null,
            "top": null,
            "visibility": null,
            "width": null
          }
        },
        "5339b2a3f6974721ab34b0bf467f4fbf": {
          "model_module": "@jupyter-widgets/controls",
          "model_module_version": "1.5.0",
          "model_name": "ProgressStyleModel",
          "state": {
            "_model_module": "@jupyter-widgets/controls",
            "_model_module_version": "1.5.0",
            "_model_name": "ProgressStyleModel",
            "_view_count": null,
            "_view_module": "@jupyter-widgets/base",
            "_view_module_version": "1.2.0",
            "_view_name": "StyleView",
            "bar_color": null,
            "description_width": ""
          }
        },
        "5409c8328ccd4224b6a79b5476ee102b": {
          "model_module": "@jupyter-widgets/base",
          "model_module_version": "1.2.0",
          "model_name": "LayoutModel",
          "state": {
            "_model_module": "@jupyter-widgets/base",
            "_model_module_version": "1.2.0",
            "_model_name": "LayoutModel",
            "_view_count": null,
            "_view_module": "@jupyter-widgets/base",
            "_view_module_version": "1.2.0",
            "_view_name": "LayoutView",
            "align_content": null,
            "align_items": null,
            "align_self": null,
            "border": null,
            "bottom": null,
            "display": null,
            "flex": null,
            "flex_flow": null,
            "grid_area": null,
            "grid_auto_columns": null,
            "grid_auto_flow": null,
            "grid_auto_rows": null,
            "grid_column": null,
            "grid_gap": null,
            "grid_row": null,
            "grid_template_areas": null,
            "grid_template_columns": null,
            "grid_template_rows": null,
            "height": null,
            "justify_content": null,
            "justify_items": null,
            "left": null,
            "margin": null,
            "max_height": null,
            "max_width": null,
            "min_height": null,
            "min_width": null,
            "object_fit": null,
            "object_position": null,
            "order": null,
            "overflow": null,
            "overflow_x": null,
            "overflow_y": null,
            "padding": null,
            "right": null,
            "top": null,
            "visibility": null,
            "width": null
          }
        },
        "56deb171510b4326bc1e062dce34317f": {
          "model_module": "@jupyter-widgets/controls",
          "model_module_version": "1.5.0",
          "model_name": "DescriptionStyleModel",
          "state": {
            "_model_module": "@jupyter-widgets/controls",
            "_model_module_version": "1.5.0",
            "_model_name": "DescriptionStyleModel",
            "_view_count": null,
            "_view_module": "@jupyter-widgets/base",
            "_view_module_version": "1.2.0",
            "_view_name": "StyleView",
            "description_width": ""
          }
        },
        "5f2816b2ffbb45c08f0abeeca55fb6e7": {
          "model_module": "@jupyter-widgets/base",
          "model_module_version": "1.2.0",
          "model_name": "LayoutModel",
          "state": {
            "_model_module": "@jupyter-widgets/base",
            "_model_module_version": "1.2.0",
            "_model_name": "LayoutModel",
            "_view_count": null,
            "_view_module": "@jupyter-widgets/base",
            "_view_module_version": "1.2.0",
            "_view_name": "LayoutView",
            "align_content": null,
            "align_items": null,
            "align_self": null,
            "border": null,
            "bottom": null,
            "display": null,
            "flex": null,
            "flex_flow": null,
            "grid_area": null,
            "grid_auto_columns": null,
            "grid_auto_flow": null,
            "grid_auto_rows": null,
            "grid_column": null,
            "grid_gap": null,
            "grid_row": null,
            "grid_template_areas": null,
            "grid_template_columns": null,
            "grid_template_rows": null,
            "height": null,
            "justify_content": null,
            "justify_items": null,
            "left": null,
            "margin": null,
            "max_height": null,
            "max_width": null,
            "min_height": null,
            "min_width": null,
            "object_fit": null,
            "object_position": null,
            "order": null,
            "overflow": null,
            "overflow_x": null,
            "overflow_y": null,
            "padding": null,
            "right": null,
            "top": null,
            "visibility": null,
            "width": null
          }
        },
        "60530aa59c094968923e6156d156467a": {
          "model_module": "@jupyter-widgets/base",
          "model_module_version": "1.2.0",
          "model_name": "LayoutModel",
          "state": {
            "_model_module": "@jupyter-widgets/base",
            "_model_module_version": "1.2.0",
            "_model_name": "LayoutModel",
            "_view_count": null,
            "_view_module": "@jupyter-widgets/base",
            "_view_module_version": "1.2.0",
            "_view_name": "LayoutView",
            "align_content": null,
            "align_items": null,
            "align_self": null,
            "border": null,
            "bottom": null,
            "display": null,
            "flex": null,
            "flex_flow": null,
            "grid_area": null,
            "grid_auto_columns": null,
            "grid_auto_flow": null,
            "grid_auto_rows": null,
            "grid_column": null,
            "grid_gap": null,
            "grid_row": null,
            "grid_template_areas": null,
            "grid_template_columns": null,
            "grid_template_rows": null,
            "height": null,
            "justify_content": null,
            "justify_items": null,
            "left": null,
            "margin": null,
            "max_height": null,
            "max_width": null,
            "min_height": null,
            "min_width": null,
            "object_fit": null,
            "object_position": null,
            "order": null,
            "overflow": null,
            "overflow_x": null,
            "overflow_y": null,
            "padding": null,
            "right": null,
            "top": null,
            "visibility": null,
            "width": null
          }
        },
        "65c8380e2b7047aeb8e2f626382e4ac4": {
          "model_module": "@jupyter-widgets/controls",
          "model_module_version": "1.5.0",
          "model_name": "HTMLModel",
          "state": {
            "_dom_classes": [],
            "_model_module": "@jupyter-widgets/controls",
            "_model_module_version": "1.5.0",
            "_model_name": "HTMLModel",
            "_view_count": null,
            "_view_module": "@jupyter-widgets/controls",
            "_view_module_version": "1.5.0",
            "_view_name": "HTMLView",
            "description": "",
            "description_tooltip": null,
            "layout": "IPY_MODEL_e0e9129c126d4c87bb6cb063f9867792",
            "placeholder": "​",
            "style": "IPY_MODEL_fdb93666a60f480eac2318e5dbe03314",
            "value": "Downloading: 100%"
          }
        },
        "711ee4f95fd241929207bd54e13dd2bc": {
          "model_module": "@jupyter-widgets/controls",
          "model_module_version": "1.5.0",
          "model_name": "ProgressStyleModel",
          "state": {
            "_model_module": "@jupyter-widgets/controls",
            "_model_module_version": "1.5.0",
            "_model_name": "ProgressStyleModel",
            "_view_count": null,
            "_view_module": "@jupyter-widgets/base",
            "_view_module_version": "1.2.0",
            "_view_name": "StyleView",
            "bar_color": null,
            "description_width": ""
          }
        },
        "7461cd6ffb424fab869faf5c49b609e9": {
          "model_module": "@jupyter-widgets/controls",
          "model_module_version": "1.5.0",
          "model_name": "FloatProgressModel",
          "state": {
            "_dom_classes": [],
            "_model_module": "@jupyter-widgets/controls",
            "_model_module_version": "1.5.0",
            "_model_name": "FloatProgressModel",
            "_view_count": null,
            "_view_module": "@jupyter-widgets/controls",
            "_view_module_version": "1.5.0",
            "_view_name": "ProgressView",
            "bar_style": "success",
            "description": "",
            "description_tooltip": null,
            "layout": "IPY_MODEL_89b0dc1d9ff644b79e73301f53e3ccfa",
            "max": 714355318,
            "min": 0,
            "orientation": "horizontal",
            "style": "IPY_MODEL_5339b2a3f6974721ab34b0bf467f4fbf",
            "value": 714355318
          }
        },
        "7a6b892f16d04e699bcc162fab19f44c": {
          "model_module": "@jupyter-widgets/controls",
          "model_module_version": "1.5.0",
          "model_name": "DescriptionStyleModel",
          "state": {
            "_model_module": "@jupyter-widgets/controls",
            "_model_module_version": "1.5.0",
            "_model_name": "DescriptionStyleModel",
            "_view_count": null,
            "_view_module": "@jupyter-widgets/base",
            "_view_module_version": "1.2.0",
            "_view_name": "StyleView",
            "description_width": ""
          }
        },
        "8081a77daed44be9955bdf46bac3da8f": {
          "model_module": "@jupyter-widgets/controls",
          "model_module_version": "1.5.0",
          "model_name": "ProgressStyleModel",
          "state": {
            "_model_module": "@jupyter-widgets/controls",
            "_model_module_version": "1.5.0",
            "_model_name": "ProgressStyleModel",
            "_view_count": null,
            "_view_module": "@jupyter-widgets/base",
            "_view_module_version": "1.2.0",
            "_view_name": "StyleView",
            "bar_color": null,
            "description_width": ""
          }
        },
        "8217c97bf21b4e7d9469a07f40e58d09": {
          "model_module": "@jupyter-widgets/base",
          "model_module_version": "1.2.0",
          "model_name": "LayoutModel",
          "state": {
            "_model_module": "@jupyter-widgets/base",
            "_model_module_version": "1.2.0",
            "_model_name": "LayoutModel",
            "_view_count": null,
            "_view_module": "@jupyter-widgets/base",
            "_view_module_version": "1.2.0",
            "_view_name": "LayoutView",
            "align_content": null,
            "align_items": null,
            "align_self": null,
            "border": null,
            "bottom": null,
            "display": null,
            "flex": null,
            "flex_flow": null,
            "grid_area": null,
            "grid_auto_columns": null,
            "grid_auto_flow": null,
            "grid_auto_rows": null,
            "grid_column": null,
            "grid_gap": null,
            "grid_row": null,
            "grid_template_areas": null,
            "grid_template_columns": null,
            "grid_template_rows": null,
            "height": null,
            "justify_content": null,
            "justify_items": null,
            "left": null,
            "margin": null,
            "max_height": null,
            "max_width": null,
            "min_height": null,
            "min_width": null,
            "object_fit": null,
            "object_position": null,
            "order": null,
            "overflow": null,
            "overflow_x": null,
            "overflow_y": null,
            "padding": null,
            "right": null,
            "top": null,
            "visibility": null,
            "width": null
          }
        },
        "821a782922884bdc932e5f0a3c9c4eba": {
          "model_module": "@jupyter-widgets/base",
          "model_module_version": "1.2.0",
          "model_name": "LayoutModel",
          "state": {
            "_model_module": "@jupyter-widgets/base",
            "_model_module_version": "1.2.0",
            "_model_name": "LayoutModel",
            "_view_count": null,
            "_view_module": "@jupyter-widgets/base",
            "_view_module_version": "1.2.0",
            "_view_name": "LayoutView",
            "align_content": null,
            "align_items": null,
            "align_self": null,
            "border": null,
            "bottom": null,
            "display": null,
            "flex": null,
            "flex_flow": null,
            "grid_area": null,
            "grid_auto_columns": null,
            "grid_auto_flow": null,
            "grid_auto_rows": null,
            "grid_column": null,
            "grid_gap": null,
            "grid_row": null,
            "grid_template_areas": null,
            "grid_template_columns": null,
            "grid_template_rows": null,
            "height": null,
            "justify_content": null,
            "justify_items": null,
            "left": null,
            "margin": null,
            "max_height": null,
            "max_width": null,
            "min_height": null,
            "min_width": null,
            "object_fit": null,
            "object_position": null,
            "order": null,
            "overflow": null,
            "overflow_x": null,
            "overflow_y": null,
            "padding": null,
            "right": null,
            "top": null,
            "visibility": null,
            "width": null
          }
        },
        "89b0dc1d9ff644b79e73301f53e3ccfa": {
          "model_module": "@jupyter-widgets/base",
          "model_module_version": "1.2.0",
          "model_name": "LayoutModel",
          "state": {
            "_model_module": "@jupyter-widgets/base",
            "_model_module_version": "1.2.0",
            "_model_name": "LayoutModel",
            "_view_count": null,
            "_view_module": "@jupyter-widgets/base",
            "_view_module_version": "1.2.0",
            "_view_name": "LayoutView",
            "align_content": null,
            "align_items": null,
            "align_self": null,
            "border": null,
            "bottom": null,
            "display": null,
            "flex": null,
            "flex_flow": null,
            "grid_area": null,
            "grid_auto_columns": null,
            "grid_auto_flow": null,
            "grid_auto_rows": null,
            "grid_column": null,
            "grid_gap": null,
            "grid_row": null,
            "grid_template_areas": null,
            "grid_template_columns": null,
            "grid_template_rows": null,
            "height": null,
            "justify_content": null,
            "justify_items": null,
            "left": null,
            "margin": null,
            "max_height": null,
            "max_width": null,
            "min_height": null,
            "min_width": null,
            "object_fit": null,
            "object_position": null,
            "order": null,
            "overflow": null,
            "overflow_x": null,
            "overflow_y": null,
            "padding": null,
            "right": null,
            "top": null,
            "visibility": null,
            "width": null
          }
        },
        "8b23a14d44004992980e26b1e75784c0": {
          "model_module": "@jupyter-widgets/controls",
          "model_module_version": "1.5.0",
          "model_name": "HTMLModel",
          "state": {
            "_dom_classes": [],
            "_model_module": "@jupyter-widgets/controls",
            "_model_module_version": "1.5.0",
            "_model_name": "HTMLModel",
            "_view_count": null,
            "_view_module": "@jupyter-widgets/controls",
            "_view_module_version": "1.5.0",
            "_view_name": "HTMLView",
            "description": "",
            "description_tooltip": null,
            "layout": "IPY_MODEL_f369b271bce94d33805a400b47217b73",
            "placeholder": "​",
            "style": "IPY_MODEL_f1dea0b13dbc451185d89520ee57c1bf",
            "value": " 1.65M/1.65M [00:00&lt;00:00, 2.84MB/s]"
          }
        },
        "9200af485a0f44f8b1cfc404b4123294": {
          "model_module": "@jupyter-widgets/controls",
          "model_module_version": "1.5.0",
          "model_name": "ProgressStyleModel",
          "state": {
            "_model_module": "@jupyter-widgets/controls",
            "_model_module_version": "1.5.0",
            "_model_name": "ProgressStyleModel",
            "_view_count": null,
            "_view_module": "@jupyter-widgets/base",
            "_view_module_version": "1.2.0",
            "_view_name": "StyleView",
            "bar_color": null,
            "description_width": ""
          }
        },
        "9b8e5bc5305b428ca6cc6a07dbef02c3": {
          "model_module": "@jupyter-widgets/controls",
          "model_module_version": "1.5.0",
          "model_name": "HTMLModel",
          "state": {
            "_dom_classes": [],
            "_model_module": "@jupyter-widgets/controls",
            "_model_module_version": "1.5.0",
            "_model_name": "HTMLModel",
            "_view_count": null,
            "_view_module": "@jupyter-widgets/controls",
            "_view_module_version": "1.5.0",
            "_view_name": "HTMLView",
            "description": "",
            "description_tooltip": null,
            "layout": "IPY_MODEL_3de5ea21caf44807a635087eecc241ea",
            "placeholder": "​",
            "style": "IPY_MODEL_05ee6b2dba994c4293f70a6f88ee4f70",
            "value": "Downloading: 100%"
          }
        },
        "a923486d9bb84906b8600ab47db9026b": {
          "model_module": "@jupyter-widgets/controls",
          "model_module_version": "1.5.0",
          "model_name": "DescriptionStyleModel",
          "state": {
            "_model_module": "@jupyter-widgets/controls",
            "_model_module_version": "1.5.0",
            "_model_name": "DescriptionStyleModel",
            "_view_count": null,
            "_view_module": "@jupyter-widgets/base",
            "_view_module_version": "1.2.0",
            "_view_name": "StyleView",
            "description_width": ""
          }
        },
        "a96b4483e49742bbb53eef75ee18342f": {
          "model_module": "@jupyter-widgets/controls",
          "model_module_version": "1.5.0",
          "model_name": "DescriptionStyleModel",
          "state": {
            "_model_module": "@jupyter-widgets/controls",
            "_model_module_version": "1.5.0",
            "_model_name": "DescriptionStyleModel",
            "_view_count": null,
            "_view_module": "@jupyter-widgets/base",
            "_view_module_version": "1.2.0",
            "_view_name": "StyleView",
            "description_width": ""
          }
        },
        "b728618195104933964858964439c93b": {
          "model_module": "@jupyter-widgets/base",
          "model_module_version": "1.2.0",
          "model_name": "LayoutModel",
          "state": {
            "_model_module": "@jupyter-widgets/base",
            "_model_module_version": "1.2.0",
            "_model_name": "LayoutModel",
            "_view_count": null,
            "_view_module": "@jupyter-widgets/base",
            "_view_module_version": "1.2.0",
            "_view_name": "LayoutView",
            "align_content": null,
            "align_items": null,
            "align_self": null,
            "border": null,
            "bottom": null,
            "display": null,
            "flex": null,
            "flex_flow": null,
            "grid_area": null,
            "grid_auto_columns": null,
            "grid_auto_flow": null,
            "grid_auto_rows": null,
            "grid_column": null,
            "grid_gap": null,
            "grid_row": null,
            "grid_template_areas": null,
            "grid_template_columns": null,
            "grid_template_rows": null,
            "height": null,
            "justify_content": null,
            "justify_items": null,
            "left": null,
            "margin": null,
            "max_height": null,
            "max_width": null,
            "min_height": null,
            "min_width": null,
            "object_fit": null,
            "object_position": null,
            "order": null,
            "overflow": null,
            "overflow_x": null,
            "overflow_y": null,
            "padding": null,
            "right": null,
            "top": null,
            "visibility": null,
            "width": null
          }
        },
        "b843c8264bc44711a6b9f0d7ed28f7c0": {
          "model_module": "@jupyter-widgets/controls",
          "model_module_version": "1.5.0",
          "model_name": "HTMLModel",
          "state": {
            "_dom_classes": [],
            "_model_module": "@jupyter-widgets/controls",
            "_model_module_version": "1.5.0",
            "_model_name": "HTMLModel",
            "_view_count": null,
            "_view_module": "@jupyter-widgets/controls",
            "_view_module_version": "1.5.0",
            "_view_name": "HTMLView",
            "description": "",
            "description_tooltip": null,
            "layout": "IPY_MODEL_47a6341722424ac2be34dc36344ae79e",
            "placeholder": "​",
            "style": "IPY_MODEL_286c77deb86e4ed3a8ad0a1a08ed7b1e",
            "value": "Downloading: 100%"
          }
        },
        "c73acf1b03794162b8874fbecc781ce5": {
          "model_module": "@jupyter-widgets/controls",
          "model_module_version": "1.5.0",
          "model_name": "HBoxModel",
          "state": {
            "_dom_classes": [],
            "_model_module": "@jupyter-widgets/controls",
            "_model_module_version": "1.5.0",
            "_model_name": "HBoxModel",
            "_view_count": null,
            "_view_module": "@jupyter-widgets/controls",
            "_view_module_version": "1.5.0",
            "_view_name": "HBoxView",
            "box_style": "",
            "children": [
              "IPY_MODEL_65c8380e2b7047aeb8e2f626382e4ac4",
              "IPY_MODEL_7461cd6ffb424fab869faf5c49b609e9",
              "IPY_MODEL_272e1704b5ad4a9a996d46bcbb73023f"
            ],
            "layout": "IPY_MODEL_d23b252864404b4cac63fc327c312555"
          }
        },
        "d23b252864404b4cac63fc327c312555": {
          "model_module": "@jupyter-widgets/base",
          "model_module_version": "1.2.0",
          "model_name": "LayoutModel",
          "state": {
            "_model_module": "@jupyter-widgets/base",
            "_model_module_version": "1.2.0",
            "_model_name": "LayoutModel",
            "_view_count": null,
            "_view_module": "@jupyter-widgets/base",
            "_view_module_version": "1.2.0",
            "_view_name": "LayoutView",
            "align_content": null,
            "align_items": null,
            "align_self": null,
            "border": null,
            "bottom": null,
            "display": null,
            "flex": null,
            "flex_flow": null,
            "grid_area": null,
            "grid_auto_columns": null,
            "grid_auto_flow": null,
            "grid_auto_rows": null,
            "grid_column": null,
            "grid_gap": null,
            "grid_row": null,
            "grid_template_areas": null,
            "grid_template_columns": null,
            "grid_template_rows": null,
            "height": null,
            "justify_content": null,
            "justify_items": null,
            "left": null,
            "margin": null,
            "max_height": null,
            "max_width": null,
            "min_height": null,
            "min_width": null,
            "object_fit": null,
            "object_position": null,
            "order": null,
            "overflow": null,
            "overflow_x": null,
            "overflow_y": null,
            "padding": null,
            "right": null,
            "top": null,
            "visibility": null,
            "width": null
          }
        },
        "dd128b7650274588ad5b66acd25743d5": {
          "model_module": "@jupyter-widgets/controls",
          "model_module_version": "1.5.0",
          "model_name": "HBoxModel",
          "state": {
            "_dom_classes": [],
            "_model_module": "@jupyter-widgets/controls",
            "_model_module_version": "1.5.0",
            "_model_name": "HBoxModel",
            "_view_count": null,
            "_view_module": "@jupyter-widgets/controls",
            "_view_module_version": "1.5.0",
            "_view_name": "HBoxView",
            "box_style": "",
            "children": [
              "IPY_MODEL_fe3f293c17e34fcca4034e24e9a36686",
              "IPY_MODEL_4ca7fdf5ca51477480a2fe2770256722",
              "IPY_MODEL_8b23a14d44004992980e26b1e75784c0"
            ],
            "layout": "IPY_MODEL_821a782922884bdc932e5f0a3c9c4eba"
          }
        },
        "e0e9129c126d4c87bb6cb063f9867792": {
          "model_module": "@jupyter-widgets/base",
          "model_module_version": "1.2.0",
          "model_name": "LayoutModel",
          "state": {
            "_model_module": "@jupyter-widgets/base",
            "_model_module_version": "1.2.0",
            "_model_name": "LayoutModel",
            "_view_count": null,
            "_view_module": "@jupyter-widgets/base",
            "_view_module_version": "1.2.0",
            "_view_name": "LayoutView",
            "align_content": null,
            "align_items": null,
            "align_self": null,
            "border": null,
            "bottom": null,
            "display": null,
            "flex": null,
            "flex_flow": null,
            "grid_area": null,
            "grid_auto_columns": null,
            "grid_auto_flow": null,
            "grid_auto_rows": null,
            "grid_column": null,
            "grid_gap": null,
            "grid_row": null,
            "grid_template_areas": null,
            "grid_template_columns": null,
            "grid_template_rows": null,
            "height": null,
            "justify_content": null,
            "justify_items": null,
            "left": null,
            "margin": null,
            "max_height": null,
            "max_width": null,
            "min_height": null,
            "min_width": null,
            "object_fit": null,
            "object_position": null,
            "order": null,
            "overflow": null,
            "overflow_x": null,
            "overflow_y": null,
            "padding": null,
            "right": null,
            "top": null,
            "visibility": null,
            "width": null
          }
        },
        "e0fed0d8233c4463a77d053a28f5c422": {
          "model_module": "@jupyter-widgets/controls",
          "model_module_version": "1.5.0",
          "model_name": "HBoxModel",
          "state": {
            "_dom_classes": [],
            "_model_module": "@jupyter-widgets/controls",
            "_model_module_version": "1.5.0",
            "_model_name": "HBoxModel",
            "_view_count": null,
            "_view_module": "@jupyter-widgets/controls",
            "_view_module_version": "1.5.0",
            "_view_name": "HBoxView",
            "box_style": "",
            "children": [
              "IPY_MODEL_9b8e5bc5305b428ca6cc6a07dbef02c3",
              "IPY_MODEL_e1e18f431ae34e3989fdaff1eaa347e6",
              "IPY_MODEL_0a827e1dd39f4d72907adb334c261676"
            ],
            "layout": "IPY_MODEL_0cdad02ab87e49cc99c3bd28f38d4591"
          }
        },
        "e1e18f431ae34e3989fdaff1eaa347e6": {
          "model_module": "@jupyter-widgets/controls",
          "model_module_version": "1.5.0",
          "model_name": "FloatProgressModel",
          "state": {
            "_dom_classes": [],
            "_model_module": "@jupyter-widgets/controls",
            "_model_module_version": "1.5.0",
            "_model_name": "FloatProgressModel",
            "_view_count": null,
            "_view_module": "@jupyter-widgets/controls",
            "_view_module_version": "1.5.0",
            "_view_name": "ProgressView",
            "bar_style": "success",
            "description": "",
            "description_tooltip": null,
            "layout": "IPY_MODEL_5f2816b2ffbb45c08f0abeeca55fb6e7",
            "max": 642,
            "min": 0,
            "orientation": "horizontal",
            "style": "IPY_MODEL_9200af485a0f44f8b1cfc404b4123294",
            "value": 642
          }
        },
        "e9a9e5f67bd44836b17d40279c28e727": {
          "model_module": "@jupyter-widgets/controls",
          "model_module_version": "1.5.0",
          "model_name": "HBoxModel",
          "state": {
            "_dom_classes": [],
            "_model_module": "@jupyter-widgets/controls",
            "_model_module_version": "1.5.0",
            "_model_name": "HBoxModel",
            "_view_count": null,
            "_view_module": "@jupyter-widgets/controls",
            "_view_module_version": "1.5.0",
            "_view_name": "HBoxView",
            "box_style": "",
            "children": [
              "IPY_MODEL_b843c8264bc44711a6b9f0d7ed28f7c0",
              "IPY_MODEL_200c81409066402c9de005f05c83867e",
              "IPY_MODEL_07e5668493d74fdb8838a9e3791d99cf"
            ],
            "layout": "IPY_MODEL_5284fd23297f432cb318c792806af1f2"
          }
        },
        "f118ab0e0eea4cab90a36e74674d0a3a": {
          "model_module": "@jupyter-widgets/base",
          "model_module_version": "1.2.0",
          "model_name": "LayoutModel",
          "state": {
            "_model_module": "@jupyter-widgets/base",
            "_model_module_version": "1.2.0",
            "_model_name": "LayoutModel",
            "_view_count": null,
            "_view_module": "@jupyter-widgets/base",
            "_view_module_version": "1.2.0",
            "_view_name": "LayoutView",
            "align_content": null,
            "align_items": null,
            "align_self": null,
            "border": null,
            "bottom": null,
            "display": null,
            "flex": null,
            "flex_flow": null,
            "grid_area": null,
            "grid_auto_columns": null,
            "grid_auto_flow": null,
            "grid_auto_rows": null,
            "grid_column": null,
            "grid_gap": null,
            "grid_row": null,
            "grid_template_areas": null,
            "grid_template_columns": null,
            "grid_template_rows": null,
            "height": null,
            "justify_content": null,
            "justify_items": null,
            "left": null,
            "margin": null,
            "max_height": null,
            "max_width": null,
            "min_height": null,
            "min_width": null,
            "object_fit": null,
            "object_position": null,
            "order": null,
            "overflow": null,
            "overflow_x": null,
            "overflow_y": null,
            "padding": null,
            "right": null,
            "top": null,
            "visibility": null,
            "width": null
          }
        },
        "f1442becb1c14b328513c79800039767": {
          "model_module": "@jupyter-widgets/controls",
          "model_module_version": "1.5.0",
          "model_name": "HTMLModel",
          "state": {
            "_dom_classes": [],
            "_model_module": "@jupyter-widgets/controls",
            "_model_module_version": "1.5.0",
            "_model_name": "HTMLModel",
            "_view_count": null,
            "_view_module": "@jupyter-widgets/controls",
            "_view_module_version": "1.5.0",
            "_view_name": "HTMLView",
            "description": "",
            "description_tooltip": null,
            "layout": "IPY_MODEL_3d1c97a0bbad40c387d4273642a48147",
            "placeholder": "​",
            "style": "IPY_MODEL_56deb171510b4326bc1e062dce34317f",
            "value": "Downloading: 100%"
          }
        },
        "f1dea0b13dbc451185d89520ee57c1bf": {
          "model_module": "@jupyter-widgets/controls",
          "model_module_version": "1.5.0",
          "model_name": "DescriptionStyleModel",
          "state": {
            "_model_module": "@jupyter-widgets/controls",
            "_model_module_version": "1.5.0",
            "_model_name": "DescriptionStyleModel",
            "_view_count": null,
            "_view_module": "@jupyter-widgets/base",
            "_view_module_version": "1.2.0",
            "_view_name": "StyleView",
            "description_width": ""
          }
        },
        "f369b271bce94d33805a400b47217b73": {
          "model_module": "@jupyter-widgets/base",
          "model_module_version": "1.2.0",
          "model_name": "LayoutModel",
          "state": {
            "_model_module": "@jupyter-widgets/base",
            "_model_module_version": "1.2.0",
            "_model_name": "LayoutModel",
            "_view_count": null,
            "_view_module": "@jupyter-widgets/base",
            "_view_module_version": "1.2.0",
            "_view_name": "LayoutView",
            "align_content": null,
            "align_items": null,
            "align_self": null,
            "border": null,
            "bottom": null,
            "display": null,
            "flex": null,
            "flex_flow": null,
            "grid_area": null,
            "grid_auto_columns": null,
            "grid_auto_flow": null,
            "grid_auto_rows": null,
            "grid_column": null,
            "grid_gap": null,
            "grid_row": null,
            "grid_template_areas": null,
            "grid_template_columns": null,
            "grid_template_rows": null,
            "height": null,
            "justify_content": null,
            "justify_items": null,
            "left": null,
            "margin": null,
            "max_height": null,
            "max_width": null,
            "min_height": null,
            "min_width": null,
            "object_fit": null,
            "object_position": null,
            "order": null,
            "overflow": null,
            "overflow_x": null,
            "overflow_y": null,
            "padding": null,
            "right": null,
            "top": null,
            "visibility": null,
            "width": null
          }
        },
        "fdb93666a60f480eac2318e5dbe03314": {
          "model_module": "@jupyter-widgets/controls",
          "model_module_version": "1.5.0",
          "model_name": "DescriptionStyleModel",
          "state": {
            "_model_module": "@jupyter-widgets/controls",
            "_model_module_version": "1.5.0",
            "_model_name": "DescriptionStyleModel",
            "_view_count": null,
            "_view_module": "@jupyter-widgets/base",
            "_view_module_version": "1.2.0",
            "_view_name": "StyleView",
            "description_width": ""
          }
        },
        "fe3f293c17e34fcca4034e24e9a36686": {
          "model_module": "@jupyter-widgets/controls",
          "model_module_version": "1.5.0",
          "model_name": "HTMLModel",
          "state": {
            "_dom_classes": [],
            "_model_module": "@jupyter-widgets/controls",
            "_model_module_version": "1.5.0",
            "_model_name": "HTMLModel",
            "_view_count": null,
            "_view_module": "@jupyter-widgets/controls",
            "_view_module_version": "1.5.0",
            "_view_name": "HTMLView",
            "description": "",
            "description_tooltip": null,
            "layout": "IPY_MODEL_1001e4840581460ba940290d9afa8857",
            "placeholder": "​",
            "style": "IPY_MODEL_26e02ade71a64a02be78f26f6bf957f9",
            "value": "Downloading: 100%"
          }
        }
      }
    }
  },
  "nbformat": 4,
  "nbformat_minor": 0
}
